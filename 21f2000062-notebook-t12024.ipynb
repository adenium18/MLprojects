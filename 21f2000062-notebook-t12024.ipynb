{
 "cells": [
  {
   "cell_type": "code",
   "execution_count": 1,
   "id": "edd86960",
   "metadata": {
    "_cell_guid": "51a1a248-eff1-4ac9-80d5-6865813aa3cc",
    "_uuid": "46a0590c-ac15-4f45-8f1b-2a0b74673955",
    "collapsed": false,
    "execution": {
     "iopub.execute_input": "2024-04-29T10:39:52.962401Z",
     "iopub.status.busy": "2024-04-29T10:39:52.962015Z",
     "iopub.status.idle": "2024-04-29T10:39:53.740686Z",
     "shell.execute_reply": "2024-04-29T10:39:53.739559Z"
    },
    "jupyter": {
     "outputs_hidden": false
    },
    "papermill": {
     "duration": 0.800567,
     "end_time": "2024-04-29T10:39:53.743022",
     "exception": false,
     "start_time": "2024-04-29T10:39:52.942455",
     "status": "completed"
    },
    "tags": []
   },
   "outputs": [
    {
     "name": "stdout",
     "output_type": "stream",
     "text": [
      "/kaggle/input/recipe-for-rating-predict-food-ratings-using-ml/sample.csv\n",
      "/kaggle/input/recipe-for-rating-predict-food-ratings-using-ml/train.csv\n",
      "/kaggle/input/recipe-for-rating-predict-food-ratings-using-ml/test.csv\n"
     ]
    }
   ],
   "source": [
    "# This Python 3 environment comes with many helpful analytics libraries installed\n",
    "# It is defined by the kaggle/python Docker image: https://github.com/kaggle/docker-python\n",
    "# For example, here's several helpful packages to load\n",
    "\n",
    "import numpy as np # linear algebra\n",
    "import pandas as pd # data processing, CSV file I/O (e.g. pd.read_csv)\n",
    "\n",
    "# Input data files are available in the read-only \"../input/\" directory\n",
    "# For example, running this (by clicking run or pressing Shift+Enter) will list all files under the input directory\n",
    "\n",
    "import os\n",
    "for dirname, _, filenames in os.walk('/kaggle/input'):\n",
    "    for filename in filenames:\n",
    "        print(os.path.join(dirname, filename))\n",
    "\n",
    "# You can write up to 20GB to the current directory (/kaggle/working/) that gets preserved as output when you create a version using \"Save & Run All\" \n",
    "# You can also write temporary files to /kaggle/temp/, but they won't be saved outside of the current session"
   ]
  },
  {
   "cell_type": "code",
   "execution_count": 2,
   "id": "d1e02110",
   "metadata": {
    "_cell_guid": "f0b6e7d6-f8a3-4bdc-a22c-3e8dca41d632",
    "_uuid": "ea1a02f2-3f4a-4398-ba04-00802c7c01c1",
    "collapsed": false,
    "execution": {
     "iopub.execute_input": "2024-04-29T10:39:53.779290Z",
     "iopub.status.busy": "2024-04-29T10:39:53.778813Z",
     "iopub.status.idle": "2024-04-29T10:39:54.970571Z",
     "shell.execute_reply": "2024-04-29T10:39:54.969580Z"
    },
    "jupyter": {
     "outputs_hidden": false
    },
    "papermill": {
     "duration": 1.21266,
     "end_time": "2024-04-29T10:39:54.973226",
     "exception": false,
     "start_time": "2024-04-29T10:39:53.760566",
     "status": "completed"
    },
    "tags": []
   },
   "outputs": [],
   "source": [
    "import seaborn as sns\n",
    "import matplotlib.pyplot as plt"
   ]
  },
  {
   "cell_type": "code",
   "execution_count": 3,
   "id": "09a36ffd",
   "metadata": {
    "_cell_guid": "0bc7ed67-6dac-43a5-baba-dc2cb121d0aa",
    "_uuid": "f0f4e72d-0b5b-4221-bd27-53e33d57f072",
    "collapsed": false,
    "execution": {
     "iopub.execute_input": "2024-04-29T10:39:55.012172Z",
     "iopub.status.busy": "2024-04-29T10:39:55.011800Z",
     "iopub.status.idle": "2024-04-29T10:39:55.249086Z",
     "shell.execute_reply": "2024-04-29T10:39:55.247954Z"
    },
    "jupyter": {
     "outputs_hidden": false
    },
    "papermill": {
     "duration": 0.259286,
     "end_time": "2024-04-29T10:39:55.251689",
     "exception": false,
     "start_time": "2024-04-29T10:39:54.992403",
     "status": "completed"
    },
    "tags": []
   },
   "outputs": [],
   "source": [
    "df1=pd.read_csv('/kaggle/input/recipe-for-rating-predict-food-ratings-using-ml/train.csv')\n",
    "df2=pd.read_csv('/kaggle/input/recipe-for-rating-predict-food-ratings-using-ml/test.csv')"
   ]
  },
  {
   "cell_type": "code",
   "execution_count": 4,
   "id": "284fbc92",
   "metadata": {
    "_cell_guid": "a36532f3-74d7-45df-a766-3888c1a9b593",
    "_uuid": "0ffd8099-dbc3-43dd-b66b-af034f56abed",
    "collapsed": false,
    "execution": {
     "iopub.execute_input": "2024-04-29T10:39:55.288155Z",
     "iopub.status.busy": "2024-04-29T10:39:55.287750Z",
     "iopub.status.idle": "2024-04-29T10:39:55.309311Z",
     "shell.execute_reply": "2024-04-29T10:39:55.308180Z"
    },
    "jupyter": {
     "outputs_hidden": false
    },
    "papermill": {
     "duration": 0.042215,
     "end_time": "2024-04-29T10:39:55.311507",
     "exception": false,
     "start_time": "2024-04-29T10:39:55.269292",
     "status": "completed"
    },
    "tags": []
   },
   "outputs": [
    {
     "name": "stdout",
     "output_type": "stream",
     "text": [
      "ID                   0\n",
      "RecipeNumber         0\n",
      "RecipeCode           0\n",
      "RecipeName           0\n",
      "CommentID            0\n",
      "UserID               0\n",
      "UserName             0\n",
      "UserReputation       0\n",
      "CreationTimestamp    0\n",
      "ReplyCount           0\n",
      "ThumbsUpCount        0\n",
      "ThumbsDownCount      0\n",
      "Rating               0\n",
      "BestScore            0\n",
      "Recipe_Review        2\n",
      "dtype: int64 ID                   0\n",
      "RecipeNumber         0\n",
      "RecipeCode           0\n",
      "RecipeName           0\n",
      "CommentID            0\n",
      "UserID               0\n",
      "UserName             0\n",
      "UserReputation       0\n",
      "CreationTimestamp    0\n",
      "ReplyCount           0\n",
      "ThumbsUpCount        0\n",
      "ThumbsDownCount      0\n",
      "BestScore            0\n",
      "Recipe_Review        0\n",
      "dtype: int64\n",
      "ID                   0\n",
      "RecipeNumber         0\n",
      "RecipeCode           0\n",
      "RecipeName           0\n",
      "CommentID            0\n",
      "UserID               0\n",
      "UserName             0\n",
      "UserReputation       0\n",
      "CreationTimestamp    0\n",
      "ReplyCount           0\n",
      "ThumbsUpCount        0\n",
      "ThumbsDownCount      0\n",
      "Rating               0\n",
      "BestScore            0\n",
      "Recipe_Review        2\n",
      "dtype: int64 ID                   0\n",
      "RecipeNumber         0\n",
      "RecipeCode           0\n",
      "RecipeName           0\n",
      "CommentID            0\n",
      "UserID               0\n",
      "UserName             0\n",
      "UserReputation       0\n",
      "CreationTimestamp    0\n",
      "ReplyCount           0\n",
      "ThumbsUpCount        0\n",
      "ThumbsDownCount      0\n",
      "BestScore            0\n",
      "Recipe_Review        0\n",
      "dtype: int64\n"
     ]
    }
   ],
   "source": [
    "# checking null values\n",
    "print(df1.isnull().sum(),df2.isnull().sum())\n",
    "print(df1.isna().sum(),df2.isna().sum())"
   ]
  },
  {
   "cell_type": "code",
   "execution_count": 5,
   "id": "ebf8442d",
   "metadata": {
    "_cell_guid": "09fc9fff-184c-4103-b7ba-22e4f477b6a4",
    "_uuid": "4647be43-7520-4f74-82fc-60d1411c628e",
    "collapsed": false,
    "execution": {
     "iopub.execute_input": "2024-04-29T10:39:55.348016Z",
     "iopub.status.busy": "2024-04-29T10:39:55.347166Z",
     "iopub.status.idle": "2024-04-29T10:39:55.362717Z",
     "shell.execute_reply": "2024-04-29T10:39:55.361900Z"
    },
    "jupyter": {
     "outputs_hidden": false
    },
    "papermill": {
     "duration": 0.035848,
     "end_time": "2024-04-29T10:39:55.364630",
     "exception": false,
     "start_time": "2024-04-29T10:39:55.328782",
     "status": "completed"
    },
    "tags": []
   },
   "outputs": [],
   "source": [
    "#there are two null entries in Recipe_Review column. so filling up them with '-'\n",
    "df1['Recipe_Review']=df1['Recipe_Review'].fillna('-')\n",
    "df2['Recipe_Review']=df2['Recipe_Review'].fillna('-')"
   ]
  },
  {
   "cell_type": "code",
   "execution_count": 6,
   "id": "2b1a2ca6",
   "metadata": {
    "_cell_guid": "34a11911-c6e1-4f50-9c08-a7621b76da4f",
    "_uuid": "5c583ba1-61fc-4560-8bb9-0156a7147cc7",
    "collapsed": false,
    "execution": {
     "iopub.execute_input": "2024-04-29T10:39:55.401480Z",
     "iopub.status.busy": "2024-04-29T10:39:55.400737Z",
     "iopub.status.idle": "2024-04-29T10:39:55.425210Z",
     "shell.execute_reply": "2024-04-29T10:39:55.424305Z"
    },
    "jupyter": {
     "outputs_hidden": false
    },
    "papermill": {
     "duration": 0.045299,
     "end_time": "2024-04-29T10:39:55.427360",
     "exception": false,
     "start_time": "2024-04-29T10:39:55.382061",
     "status": "completed"
    },
    "tags": []
   },
   "outputs": [
    {
     "data": {
      "text/plain": [
       "count          13636\n",
       "unique         13371\n",
       "top       Delicious!\n",
       "freq              12\n",
       "Name: Recipe_Review, dtype: object"
      ]
     },
     "execution_count": 6,
     "metadata": {},
     "output_type": "execute_result"
    }
   ],
   "source": [
    "df1.Recipe_Review.describe()"
   ]
  },
  {
   "cell_type": "code",
   "execution_count": 7,
   "id": "25f8c422",
   "metadata": {
    "_cell_guid": "83a884d7-e3d8-478e-ba2e-e4b5bd8babad",
    "_uuid": "c61f7cb6-2d2b-431d-9450-a13d60f8ec56",
    "collapsed": false,
    "execution": {
     "iopub.execute_input": "2024-04-29T10:39:55.463713Z",
     "iopub.status.busy": "2024-04-29T10:39:55.463010Z",
     "iopub.status.idle": "2024-04-29T10:39:55.479674Z",
     "shell.execute_reply": "2024-04-29T10:39:55.478748Z"
    },
    "jupyter": {
     "outputs_hidden": false
    },
    "papermill": {
     "duration": 0.037465,
     "end_time": "2024-04-29T10:39:55.482029",
     "exception": false,
     "start_time": "2024-04-29T10:39:55.444564",
     "status": "completed"
    },
    "tags": []
   },
   "outputs": [
    {
     "data": {
      "text/plain": [
       "Recipe_Review\n",
       "Delicious!                                                                                                                                                                                                                                                                                                                                                                                                                                                                                                                                                                                                                                                                                 12\n",
       "Excellent!                                                                                                                                                                                                                                                                                                                                                                                                                                                                                                                                                                                                                                                                                  7\n",
       "Excellent                                                                                                                                                                                                                                                                                                                                                                                                                                                                                                                                                                                                                                                                                   7\n",
       "very good                                                                                                                                                                                                                                                                                                                                                                                                                                                                                                                                                                                                                                                                                   6\n",
       "Delicious                                                                                                                                                                                                                                                                                                                                                                                                                                                                                                                                                                                                                                                                                   6\n",
       "                                                                                                                                                                                                                                                                                                                                                                                                                                                                                                                                                                                                                                                                                           ..\n",
       "These are a delicious alternative to regular pancakes. I make them all the time.                                                                                                                                                                                                                                                                                                                                                                                                                                                                                                                                                                                                            1\n",
       "If the reviewer thinks this is vile, then it isn&#39;t a review is it?? It&#39;s a recipe that is a treat, not something one would prepare every day. It&#39;s like a loaded baked potato on a grand scale. Perhaps the person who &#34;thinks&#34; this is vile, should go to a more mundane food website...one for people who are afraid of food. It&#39;s all in how moderate you are. BTW, my preference was to cut back a little on the sour cream and cheese. I eliminated the mozzarella and used cheddar and jack, added a little garlic powder and chives. It was great with steak tips and green beans with mushrooms. This is a bona fide review because i actually made it.     1\n",
       "I replaced the white vinegar with rice vinegar and left out the red pepper flakes. It was easy to make and will be a regular in my home menu. I think it would pair well with a ginger lime rice or something with bright flavors like that.                                                                                                                                                                                                                                                                                                                                                                                                                                                1\n",
       "This was my first attempt at making fish. I don&#39;t eat fish often but am trying to start eating more of it. I chose this recipe because of ease of preparation and its use of capers (I love them!). It really was a very easy preparation. The result was great! The combination of lemon with the spices was very fresh-tasting and the paprika gave it just enough of a smoky flavor. I will definitely be making this again!                                                                                                                                                                                                                                                         1\n",
       "Super. I added 1/2 lb chopped bacon to mine. Have some xtra chicken broth in case you want it more soupy. Great recipe....will make many times over!                                                                                                                                                                                                                                                                                                                                                                                                                                                                                                                                        1\n",
       "Name: count, Length: 13371, dtype: int64"
      ]
     },
     "execution_count": 7,
     "metadata": {},
     "output_type": "execute_result"
    }
   ],
   "source": [
    "df1.Recipe_Review.value_counts()"
   ]
  },
  {
   "cell_type": "code",
   "execution_count": 8,
   "id": "580246fc",
   "metadata": {
    "_cell_guid": "14cd2aa8-c9cd-4307-8493-b59236caf072",
    "_uuid": "97a50f64-8482-492f-8f27-2fd275222bc3",
    "collapsed": false,
    "execution": {
     "iopub.execute_input": "2024-04-29T10:39:55.574244Z",
     "iopub.status.busy": "2024-04-29T10:39:55.573905Z",
     "iopub.status.idle": "2024-04-29T10:39:55.592786Z",
     "shell.execute_reply": "2024-04-29T10:39:55.591812Z"
    },
    "jupyter": {
     "outputs_hidden": false
    },
    "papermill": {
     "duration": 0.040146,
     "end_time": "2024-04-29T10:39:55.594897",
     "exception": false,
     "start_time": "2024-04-29T10:39:55.554751",
     "status": "completed"
    },
    "tags": []
   },
   "outputs": [
    {
     "data": {
      "text/html": [
       "<div>\n",
       "<style scoped>\n",
       "    .dataframe tbody tr th:only-of-type {\n",
       "        vertical-align: middle;\n",
       "    }\n",
       "\n",
       "    .dataframe tbody tr th {\n",
       "        vertical-align: top;\n",
       "    }\n",
       "\n",
       "    .dataframe thead th {\n",
       "        text-align: right;\n",
       "    }\n",
       "</style>\n",
       "<table border=\"1\" class=\"dataframe\">\n",
       "  <thead>\n",
       "    <tr style=\"text-align: right;\">\n",
       "      <th></th>\n",
       "      <th>ID</th>\n",
       "      <th>RecipeNumber</th>\n",
       "      <th>RecipeCode</th>\n",
       "      <th>RecipeName</th>\n",
       "      <th>CommentID</th>\n",
       "      <th>UserID</th>\n",
       "      <th>UserName</th>\n",
       "      <th>UserReputation</th>\n",
       "      <th>CreationTimestamp</th>\n",
       "      <th>ReplyCount</th>\n",
       "      <th>ThumbsUpCount</th>\n",
       "      <th>ThumbsDownCount</th>\n",
       "      <th>Rating</th>\n",
       "      <th>BestScore</th>\n",
       "      <th>Recipe_Review</th>\n",
       "    </tr>\n",
       "  </thead>\n",
       "  <tbody>\n",
       "  </tbody>\n",
       "</table>\n",
       "</div>"
      ],
      "text/plain": [
       "Empty DataFrame\n",
       "Columns: [ID, RecipeNumber, RecipeCode, RecipeName, CommentID, UserID, UserName, UserReputation, CreationTimestamp, ReplyCount, ThumbsUpCount, ThumbsDownCount, Rating, BestScore, Recipe_Review]\n",
       "Index: []"
      ]
     },
     "execution_count": 8,
     "metadata": {},
     "output_type": "execute_result"
    }
   ],
   "source": [
    "#there is no row with this type of observations\n",
    "#this shows that unique number is linked with the recipename and also recipecode, so keep only one feature instead.\n",
    "\n",
    "df1.loc[(df1.RecipeName=='Taco Lasagna') & (df1.RecipeCode!=20170)]"
   ]
  },
  {
   "cell_type": "code",
   "execution_count": 9,
   "id": "9cb09762",
   "metadata": {
    "_cell_guid": "e318eb2f-0443-4bf8-a71d-07d435c87eb6",
    "_uuid": "a9e8337e-6017-4fb4-9384-fcfb82069f79",
    "collapsed": false,
    "execution": {
     "iopub.execute_input": "2024-04-29T10:39:55.632151Z",
     "iopub.status.busy": "2024-04-29T10:39:55.631785Z",
     "iopub.status.idle": "2024-04-29T10:39:55.642509Z",
     "shell.execute_reply": "2024-04-29T10:39:55.641494Z"
    },
    "jupyter": {
     "outputs_hidden": false
    },
    "papermill": {
     "duration": 0.031865,
     "end_time": "2024-04-29T10:39:55.644657",
     "exception": false,
     "start_time": "2024-04-29T10:39:55.612792",
     "status": "completed"
    },
    "tags": []
   },
   "outputs": [
    {
     "data": {
      "text/plain": [
       "10620"
      ]
     },
     "execution_count": 9,
     "metadata": {},
     "output_type": "execute_result"
    }
   ],
   "source": [
    "df1['UserName'].nunique()"
   ]
  },
  {
   "cell_type": "markdown",
   "id": "bbc4b88b",
   "metadata": {
    "_cell_guid": "0875ee7c-7e9b-4d43-bd4a-af485bea5df9",
    "_uuid": "08780327-1196-4e67-9ea5-526b25ca0dd8",
    "papermill": {
     "duration": 0.017782,
     "end_time": "2024-04-29T10:39:55.681210",
     "exception": false,
     "start_time": "2024-04-29T10:39:55.663428",
     "status": "completed"
    },
    "tags": []
   },
   "source": [
    "### similar pattern observed for rating 0 & 5"
   ]
  },
  {
   "cell_type": "code",
   "execution_count": 10,
   "id": "23ba5ad8",
   "metadata": {
    "_cell_guid": "2a7efac5-4d66-4f7e-823f-1539e3efa979",
    "_uuid": "1165a827-e8f2-431f-b6bf-fbba416fc95d",
    "collapsed": false,
    "execution": {
     "iopub.execute_input": "2024-04-29T10:39:55.718945Z",
     "iopub.status.busy": "2024-04-29T10:39:55.718567Z",
     "iopub.status.idle": "2024-04-29T10:39:56.108597Z",
     "shell.execute_reply": "2024-04-29T10:39:56.107515Z"
    },
    "jupyter": {
     "outputs_hidden": false
    },
    "papermill": {
     "duration": 0.411545,
     "end_time": "2024-04-29T10:39:56.110948",
     "exception": false,
     "start_time": "2024-04-29T10:39:55.699403",
     "status": "completed"
    },
    "tags": []
   },
   "outputs": [
    {
     "data": {
      "text/plain": [
       "<matplotlib.collections.PathCollection at 0x7ae5cc111a20>"
      ]
     },
     "execution_count": 10,
     "metadata": {},
     "output_type": "execute_result"
    },
    {
     "data": {
      "image/png": "[encoded data removed]",
      "text/plain": [
       "<Figure size 640x480 with 1 Axes>"
      ]
     },
     "metadata": {},
     "output_type": "display_data"
    }
   ],
   "source": [
    "# Relationship betwen ReplyCount and Rating\n",
    "plt.ylabel('ReplyCount')\n",
    "plt.xlabel('Rating')\n",
    "plt.scatter(df1['Rating'],df1['ReplyCount'],color=\"red\",marker='*')"
   ]
  },
  {
   "cell_type": "markdown",
   "id": "e40c92b3",
   "metadata": {
    "_cell_guid": "52443d3d-7eed-426c-a172-42b17f925123",
    "_uuid": "f20eed06-db2c-4dfb-a9c7-c3fb43fcd8df",
    "papermill": {
     "duration": 0.020276,
     "end_time": "2024-04-29T10:39:56.149845",
     "exception": false,
     "start_time": "2024-04-29T10:39:56.129569",
     "status": "completed"
    },
    "tags": []
   },
   "source": [
    "# feature-engineering"
   ]
  },
  {
   "cell_type": "code",
   "execution_count": 11,
   "id": "102dc32a",
   "metadata": {
    "_cell_guid": "fee0e2c9-44c6-4138-b0a2-913c06f68af0",
    "_uuid": "78435b68-1513-4981-ab48-1427901946d7",
    "collapsed": false,
    "execution": {
     "iopub.execute_input": "2024-04-29T10:39:56.188674Z",
     "iopub.status.busy": "2024-04-29T10:39:56.188324Z",
     "iopub.status.idle": "2024-04-29T10:39:56.364838Z",
     "shell.execute_reply": "2024-04-29T10:39:56.363909Z"
    },
    "jupyter": {
     "outputs_hidden": false
    },
    "papermill": {
     "duration": 0.19894,
     "end_time": "2024-04-29T10:39:56.367319",
     "exception": false,
     "start_time": "2024-04-29T10:39:56.168379",
     "status": "completed"
    },
    "tags": []
   },
   "outputs": [],
   "source": [
    "df1['Review_Length']= df1['Recipe_Review'].str.split().apply(len)\n",
    "df2['Review_Length']= df2['Recipe_Review'].str.split().apply(len)\n",
    "\n",
    "df1['offensive_count']=df1['Recipe_Review'].str.count(r'[#@*^%/+|()=`~!?]')\n",
    "df2['offensive_count']=df2['Recipe_Review'].str.count(r'[#@*^%/+|()=`~!?]')"
   ]
  },
  {
   "cell_type": "markdown",
   "id": "d5932919",
   "metadata": {
    "_cell_guid": "e2afaf3a-ce10-4363-bbe7-6bf33a839fca",
    "_uuid": "a6f9e549-db77-4c6e-bc4f-f5da3e06d30e",
    "papermill": {
     "duration": 0.018158,
     "end_time": "2024-04-29T10:39:56.404118",
     "exception": false,
     "start_time": "2024-04-29T10:39:56.385960",
     "status": "completed"
    },
    "tags": []
   },
   "source": [
    "# Some data-visualizations"
   ]
  },
  {
   "cell_type": "code",
   "execution_count": 12,
   "id": "5bfa0584",
   "metadata": {
    "_cell_guid": "873f320c-546b-4116-8be1-39d50245c4fd",
    "_kg_hide-output": true,
    "_uuid": "17da6b81-d69e-464a-bde4-5dd82afb22fa",
    "collapsed": false,
    "execution": {
     "iopub.execute_input": "2024-04-29T10:39:56.443615Z",
     "iopub.status.busy": "2024-04-29T10:39:56.442741Z",
     "iopub.status.idle": "2024-04-29T10:39:56.877396Z",
     "shell.execute_reply": "2024-04-29T10:39:56.876200Z"
    },
    "jupyter": {
     "outputs_hidden": false
    },
    "papermill": {
     "duration": 0.456694,
     "end_time": "2024-04-29T10:39:56.879918",
     "exception": false,
     "start_time": "2024-04-29T10:39:56.423224",
     "status": "completed"
    },
    "tags": []
   },
   "outputs": [
    {
     "data": {
      "image/png": "[encoded data removed]",
      "text/plain": [
       "<Figure size 640x480 with 2 Axes>"
      ]
     },
     "metadata": {},
     "output_type": "display_data"
    }
   ],
   "source": [
    "#correlation matrix of numerical features\n",
    "corr_df1=df1.drop(columns=['RecipeName','CommentID','UserID','UserName','Recipe_Review','CreationTimestamp'])\n",
    "dataplot = sns.heatmap(corr_df1.corr(),cmap='YlOrBr',annot=False)"
   ]
  },
  {
   "cell_type": "code",
   "execution_count": 13,
   "id": "2dce1d1b",
   "metadata": {
    "_cell_guid": "d157d1da-ff45-4175-bc0c-d4e9ca83abc1",
    "_uuid": "8743a88f-bab3-4f41-b838-34ad68846245",
    "collapsed": false,
    "execution": {
     "iopub.execute_input": "2024-04-29T10:39:56.921050Z",
     "iopub.status.busy": "2024-04-29T10:39:56.920679Z",
     "iopub.status.idle": "2024-04-29T10:39:57.062453Z",
     "shell.execute_reply": "2024-04-29T10:39:57.061230Z"
    },
    "jupyter": {
     "outputs_hidden": false
    },
    "papermill": {
     "duration": 0.166083,
     "end_time": "2024-04-29T10:39:57.065538",
     "exception": false,
     "start_time": "2024-04-29T10:39:56.899455",
     "status": "completed"
    },
    "tags": []
   },
   "outputs": [
    {
     "data": {
      "text/plain": [
       "<Axes: >"
      ]
     },
     "execution_count": 13,
     "metadata": {},
     "output_type": "execute_result"
    },
    {
     "data": {
      "image/png": "[encoded data removed]",
      "text/plain": [
       "<Figure size 640x480 with 1 Axes>"
      ]
     },
     "metadata": {},
     "output_type": "display_data"
    }
   ],
   "source": [
    "sns.boxplot(df1['Review_Length'])"
   ]
  },
  {
   "cell_type": "code",
   "execution_count": 14,
   "id": "cbf96e28",
   "metadata": {
    "_cell_guid": "556a9474-693e-4a2e-8414-cfa45d832b8e",
    "_uuid": "6615632e-2af2-4d2e-b849-5989bfb7dece",
    "collapsed": false,
    "execution": {
     "iopub.execute_input": "2024-04-29T10:39:57.109719Z",
     "iopub.status.busy": "2024-04-29T10:39:57.109341Z",
     "iopub.status.idle": "2024-04-29T10:39:57.380560Z",
     "shell.execute_reply": "2024-04-29T10:39:57.379473Z"
    },
    "jupyter": {
     "outputs_hidden": false
    },
    "papermill": {
     "duration": 0.296958,
     "end_time": "2024-04-29T10:39:57.382926",
     "exception": false,
     "start_time": "2024-04-29T10:39:57.085968",
     "status": "completed"
    },
    "tags": []
   },
   "outputs": [
    {
     "data": {
      "text/plain": [
       "<matplotlib.collections.PathCollection at 0x7ae5c73336d0>"
      ]
     },
     "execution_count": 14,
     "metadata": {},
     "output_type": "execute_result"
    },
    {
     "data": {
      "image/png": "[encoded data removed]",
      "text/plain": [
       "<Figure size 640x480 with 1 Axes>"
      ]
     },
     "metadata": {},
     "output_type": "display_data"
    }
   ],
   "source": [
    "#relationship between username and rating\n",
    "plt.xlabel('UserReputation')\n",
    "plt.ylabel('Rating')\n",
    "plt.scatter(df1['UserReputation'], df1['Rating'],color='green',marker='+')"
   ]
  },
  {
   "cell_type": "code",
   "execution_count": 15,
   "id": "bbc15684",
   "metadata": {
    "_cell_guid": "a2441bf0-ecad-479e-85a7-a45305f5a9b0",
    "_uuid": "9a131d1e-344c-4a45-82a4-6b22351d89f2",
    "collapsed": false,
    "execution": {
     "iopub.execute_input": "2024-04-29T10:39:57.425413Z",
     "iopub.status.busy": "2024-04-29T10:39:57.425008Z",
     "iopub.status.idle": "2024-04-29T10:40:00.424909Z",
     "shell.execute_reply": "2024-04-29T10:40:00.423760Z"
    },
    "jupyter": {
     "outputs_hidden": false
    },
    "papermill": {
     "duration": 3.025094,
     "end_time": "2024-04-29T10:40:00.428406",
     "exception": false,
     "start_time": "2024-04-29T10:39:57.403312",
     "status": "completed"
    },
    "tags": []
   },
   "outputs": [
    {
     "name": "stderr",
     "output_type": "stream",
     "text": [
      "/tmp/ipykernel_19/1109319784.py:1: MatplotlibDeprecationWarning: The seaborn styles shipped by Matplotlib are deprecated since 3.6, as they no longer correspond to the styles shipped by seaborn. However, they will remain available as 'seaborn-v0_8-<style>'. Alternatively, directly use the seaborn API instead.\n",
      "  plt.style.use('seaborn')\n"
     ]
    },
    {
     "data": {
      "image/png": "[encoded data removed]",
      "text/plain": [
       "<Figure size 2000x1500 with 12 Axes>"
      ]
     },
     "metadata": {},
     "output_type": "display_data"
    }
   ],
   "source": [
    "plt.style.use('seaborn')\n",
    "df1.hist(bins=50,figsize=(20,15))\n",
    "plt.show()"
   ]
  },
  {
   "cell_type": "markdown",
   "id": "504e00ca",
   "metadata": {
    "_cell_guid": "3ddd0486-55b3-43fe-83f6-02577316a099",
    "_uuid": "3e123aea-ebbc-4f3a-86ac-b7e14b0ec0c1",
    "papermill": {
     "duration": 0.021897,
     "end_time": "2024-04-29T10:40:00.473533",
     "exception": false,
     "start_time": "2024-04-29T10:40:00.451636",
     "status": "completed"
    },
    "tags": []
   },
   "source": [
    "# prepearing data to fit into a model"
   ]
  },
  {
   "cell_type": "code",
   "execution_count": 16,
   "id": "de9ac86d",
   "metadata": {
    "_cell_guid": "c1aa9421-418c-4a8d-91f1-f3ac51e2cb64",
    "_uuid": "655852b8-eacf-4041-8fe1-75f8b88b886c",
    "collapsed": false,
    "execution": {
     "iopub.execute_input": "2024-04-29T10:40:00.519809Z",
     "iopub.status.busy": "2024-04-29T10:40:00.519441Z",
     "iopub.status.idle": "2024-04-29T10:40:00.527831Z",
     "shell.execute_reply": "2024-04-29T10:40:00.526893Z"
    },
    "jupyter": {
     "outputs_hidden": false
    },
    "papermill": {
     "duration": 0.03405,
     "end_time": "2024-04-29T10:40:00.530054",
     "exception": false,
     "start_time": "2024-04-29T10:40:00.496004",
     "status": "completed"
    },
    "tags": []
   },
   "outputs": [
    {
     "data": {
      "text/plain": [
       "Rating\n",
       "5    10371\n",
       "0     1272\n",
       "4     1241\n",
       "3      368\n",
       "1      210\n",
       "2      174\n",
       "Name: count, dtype: int64"
      ]
     },
     "execution_count": 16,
     "metadata": {},
     "output_type": "execute_result"
    }
   ],
   "source": [
    "y=df1['Rating']\n",
    "y.value_counts()"
   ]
  },
  {
   "cell_type": "code",
   "execution_count": 17,
   "id": "8bd98ed9",
   "metadata": {
    "execution": {
     "iopub.execute_input": "2024-04-29T10:40:00.576882Z",
     "iopub.status.busy": "2024-04-29T10:40:00.576500Z",
     "iopub.status.idle": "2024-04-29T10:40:00.752158Z",
     "shell.execute_reply": "2024-04-29T10:40:00.751051Z"
    },
    "papermill": {
     "duration": 0.202269,
     "end_time": "2024-04-29T10:40:00.754661",
     "exception": false,
     "start_time": "2024-04-29T10:40:00.552392",
     "status": "completed"
    },
    "tags": []
   },
   "outputs": [],
   "source": [
    "from sklearn.feature_extraction.text import TfidfVectorizer,ENGLISH_STOP_WORDS\n",
    "english_stop_words_list = list(ENGLISH_STOP_WORDS)\n",
    "\n",
    "import re\n",
    "\n",
    "def custom_tokenizer(text):\n",
    "    # Remove numbers and punctuation marks\n",
    "    text = re.sub(r'\\d', '', text)  # Remove numbers \n",
    "    text = re.sub(r'[^\\w\\s]', '', text)   # Remove punctuation marks\n",
    "    pattern = r'[%$&@#~!`\"\\'?\\\\/\\[\\]{}()<>+=\\-_*^|.,:;]'\n",
    "\n",
    "    # Remove symbols from the text\n",
    "    text = re.sub(pattern, '', text)\n",
    "    # Split the text into words based on whitespace\n",
    "    tokens = text.split()\n",
    "    \n",
    "    return tokens\n",
    "\n",
    "\n",
    "tf=TfidfVectorizer(tokenizer=custom_tokenizer,stop_words=english_stop_words_list, ngram_range=(1, 2),max_features=8000)\n",
    "tf1=TfidfVectorizer(tokenizer=custom_tokenizer,stop_words=english_stop_words_list,max_features=150)\n"
   ]
  },
  {
   "cell_type": "code",
   "execution_count": 18,
   "id": "89d851a5",
   "metadata": {
    "_cell_guid": "66547387-1f8f-418b-a679-10d60c3673eb",
    "_uuid": "5c0881d9-8274-430d-8ebf-f503488c33eb",
    "collapsed": false,
    "execution": {
     "iopub.execute_input": "2024-04-29T10:40:00.802368Z",
     "iopub.status.busy": "2024-04-29T10:40:00.801428Z",
     "iopub.status.idle": "2024-04-29T10:40:00.811680Z",
     "shell.execute_reply": "2024-04-29T10:40:00.810747Z"
    },
    "jupyter": {
     "outputs_hidden": false
    },
    "papermill": {
     "duration": 0.035915,
     "end_time": "2024-04-29T10:40:00.813862",
     "exception": false,
     "start_time": "2024-04-29T10:40:00.777947",
     "status": "completed"
    },
    "tags": []
   },
   "outputs": [],
   "source": [
    "df1=df1.drop(columns=['ID','RecipeCode','BestScore','UserReputation','CommentID','UserID','UserName','CreationTimestamp','Rating'])\n",
    "df2=df2.drop(columns=['ID','RecipeCode','BestScore','UserReputation','CommentID','UserID','UserName','CreationTimestamp'])\n",
    "\n",
    "#removing unnecessary columns which are causing accuracy to drop"
   ]
  },
  {
   "cell_type": "code",
   "execution_count": 19,
   "id": "a1d5f481",
   "metadata": {
    "_cell_guid": "fe02be19-38cd-43a9-89bb-5ef273aa50c3",
    "_uuid": "becd1a27-0c12-4074-844b-7d02b32c236c",
    "collapsed": false,
    "execution": {
     "iopub.execute_input": "2024-04-29T10:40:00.859992Z",
     "iopub.status.busy": "2024-04-29T10:40:00.859364Z",
     "iopub.status.idle": "2024-04-29T10:40:00.872111Z",
     "shell.execute_reply": "2024-04-29T10:40:00.871262Z"
    },
    "jupyter": {
     "outputs_hidden": false
    },
    "papermill": {
     "duration": 0.038119,
     "end_time": "2024-04-29T10:40:00.874187",
     "exception": false,
     "start_time": "2024-04-29T10:40:00.836068",
     "status": "completed"
    },
    "tags": []
   },
   "outputs": [],
   "source": [
    "from sklearn.compose import ColumnTransformer\n",
    "from sklearn.preprocessing import StandardScaler,MinMaxScaler\n",
    "ss=StandardScaler()\n",
    "ms=MinMaxScaler()"
   ]
  },
  {
   "cell_type": "code",
   "execution_count": 20,
   "id": "05bbabbe",
   "metadata": {
    "_cell_guid": "37b6965e-a872-462c-b7e9-1707a39fd7cb",
    "_uuid": "2582a6e9-58cc-4722-b934-856dece7b594",
    "collapsed": false,
    "execution": {
     "iopub.execute_input": "2024-04-29T10:40:00.920716Z",
     "iopub.status.busy": "2024-04-29T10:40:00.919868Z",
     "iopub.status.idle": "2024-04-29T10:40:00.926506Z",
     "shell.execute_reply": "2024-04-29T10:40:00.925505Z"
    },
    "jupyter": {
     "outputs_hidden": false
    },
    "papermill": {
     "duration": 0.032056,
     "end_time": "2024-04-29T10:40:00.928593",
     "exception": false,
     "start_time": "2024-04-29T10:40:00.896537",
     "status": "completed"
    },
    "tags": []
   },
   "outputs": [
    {
     "data": {
      "text/plain": [
       "'svd = TruncatedSVD(n_components=60)\\nsvd1=TruncatedSVD(n_components=5)'"
      ]
     },
     "execution_count": 20,
     "metadata": {},
     "output_type": "execute_result"
    }
   ],
   "source": [
    "#from sklearn.decomposition import TruncatedSVD\n",
    "\n",
    "'''svd = TruncatedSVD(n_components=60)\n",
    "svd1=TruncatedSVD(n_components=5)'''\n",
    "\n",
    "#applynig logistic rgression after applying SVD was not giving good results. So, I kept the dimension as it is."
   ]
  },
  {
   "cell_type": "code",
   "execution_count": 21,
   "id": "96a025a8",
   "metadata": {
    "_cell_guid": "69e0c332-2a88-4195-9ff1-a7ae366ac5cd",
    "_uuid": "18279815-59a9-4e29-813a-1d87ebe2f37b",
    "collapsed": false,
    "execution": {
     "iopub.execute_input": "2024-04-29T10:40:00.974487Z",
     "iopub.status.busy": "2024-04-29T10:40:00.974093Z",
     "iopub.status.idle": "2024-04-29T10:40:00.980668Z",
     "shell.execute_reply": "2024-04-29T10:40:00.979673Z"
    },
    "jupyter": {
     "outputs_hidden": false
    },
    "papermill": {
     "duration": 0.032111,
     "end_time": "2024-04-29T10:40:00.982750",
     "exception": false,
     "start_time": "2024-04-29T10:40:00.950639",
     "status": "completed"
    },
    "tags": []
   },
   "outputs": [
    {
     "data": {
      "text/plain": [
       "'\\n\\nfrom sklearn.preprocessing import normalize\\n\\ntfidf_matrix =(normalize(tf_Review.toarray()))\\ntfidf_test_matrix =(normalize(tf_test_Review.toarray()))\\n\\nRName =(normalize(tf_RName.toarray()))\\ntest_RName =(normalize(tf_test_RName.toarray()))\\n\\nUName= (normalize(tf_UName.toarray()))\\ntest_UName=(normalize(tf_test_UName.toarray()))\\n\\nprint(tfidf_matrix.shape,RName.shape)'"
      ]
     },
     "execution_count": 21,
     "metadata": {},
     "output_type": "execute_result"
    }
   ],
   "source": [
    "'''\n",
    "\n",
    "from sklearn.preprocessing import normalize\n",
    "\n",
    "tfidf_matrix =(normalize(tf_Review.toarray()))\n",
    "tfidf_test_matrix =(normalize(tf_test_Review.toarray()))\n",
    "\n",
    "RName =(normalize(tf_RName.toarray()))\n",
    "test_RName =(normalize(tf_test_RName.toarray()))\n",
    "\n",
    "UName= (normalize(tf_UName.toarray()))\n",
    "test_UName=(normalize(tf_test_UName.toarray()))\n",
    "\n",
    "print(tfidf_matrix.shape,RName.shape)'''"
   ]
  },
  {
   "cell_type": "code",
   "execution_count": 22,
   "id": "bfbd4d0c",
   "metadata": {
    "_cell_guid": "8ab96ac7-d471-4e29-bc43-2c69476b28b9",
    "_uuid": "0a4e5963-0be4-4c83-ad35-9d3b8be87090",
    "collapsed": false,
    "execution": {
     "iopub.execute_input": "2024-04-29T10:40:01.030065Z",
     "iopub.status.busy": "2024-04-29T10:40:01.029653Z",
     "iopub.status.idle": "2024-04-29T10:40:01.035737Z",
     "shell.execute_reply": "2024-04-29T10:40:01.034817Z"
    },
    "jupyter": {
     "outputs_hidden": false
    },
    "papermill": {
     "duration": 0.032538,
     "end_time": "2024-04-29T10:40:01.037763",
     "exception": false,
     "start_time": "2024-04-29T10:40:01.005225",
     "status": "completed"
    },
    "tags": []
   },
   "outputs": [
    {
     "data": {
      "text/plain": [
       "'X=np.hstack([train_X,tfidf_matrix,RName])\\nX_test=np.hstack([test_X,tfidf_test_matrix,test_RName])'"
      ]
     },
     "execution_count": 22,
     "metadata": {},
     "output_type": "execute_result"
    }
   ],
   "source": [
    "'''X=np.hstack([train_X,tfidf_matrix,RName])\n",
    "X_test=np.hstack([test_X,tfidf_test_matrix,test_RName])'''"
   ]
  },
  {
   "cell_type": "code",
   "execution_count": 23,
   "id": "7f4c4d1f",
   "metadata": {
    "_cell_guid": "052bda33-aa34-413a-b428-2b621f0dba58",
    "_uuid": "25a35216-9912-41b9-bab7-95f7e7022b46",
    "collapsed": false,
    "execution": {
     "iopub.execute_input": "2024-04-29T10:40:01.084506Z",
     "iopub.status.busy": "2024-04-29T10:40:01.083872Z",
     "iopub.status.idle": "2024-04-29T10:40:01.091247Z",
     "shell.execute_reply": "2024-04-29T10:40:01.090248Z"
    },
    "jupyter": {
     "outputs_hidden": false
    },
    "papermill": {
     "duration": 0.033069,
     "end_time": "2024-04-29T10:40:01.093269",
     "exception": false,
     "start_time": "2024-04-29T10:40:01.060200",
     "status": "completed"
    },
    "tags": []
   },
   "outputs": [
    {
     "data": {
      "text/plain": [
       "'X=ms.fit_transform(X)\\nX_test=ms.transform(X_test)'"
      ]
     },
     "execution_count": 23,
     "metadata": {},
     "output_type": "execute_result"
    }
   ],
   "source": [
    "'''X=ms.fit_transform(X)\n",
    "X_test=ms.transform(X_test)'''"
   ]
  },
  {
   "cell_type": "markdown",
   "id": "d1fb221f",
   "metadata": {
    "_cell_guid": "ccb0d9fc-1c05-4a88-b505-c04b58d9e44c",
    "_uuid": "9b7f82e7-ca09-4d57-9fc1-d7e7fe1bc0a8",
    "papermill": {
     "duration": 0.022008,
     "end_time": "2024-04-29T10:40:01.137903",
     "exception": false,
     "start_time": "2024-04-29T10:40:01.115895",
     "status": "completed"
    },
    "tags": []
   },
   "source": [
    "# train_test_split"
   ]
  },
  {
   "cell_type": "code",
   "execution_count": 24,
   "id": "f261e7d5",
   "metadata": {
    "_cell_guid": "48679fcb-208b-4218-98f2-e54326aa33ad",
    "_uuid": "a8badeb5-d74e-4fa9-a6f6-7945965f82c4",
    "collapsed": false,
    "execution": {
     "iopub.execute_input": "2024-04-29T10:40:01.186032Z",
     "iopub.status.busy": "2024-04-29T10:40:01.185130Z",
     "iopub.status.idle": "2024-04-29T10:40:01.282840Z",
     "shell.execute_reply": "2024-04-29T10:40:01.281876Z"
    },
    "jupyter": {
     "outputs_hidden": false
    },
    "papermill": {
     "duration": 0.124522,
     "end_time": "2024-04-29T10:40:01.285346",
     "exception": false,
     "start_time": "2024-04-29T10:40:01.160824",
     "status": "completed"
    },
    "tags": []
   },
   "outputs": [],
   "source": [
    "from sklearn.model_selection import train_test_split,GridSearchCV\n",
    "x_train,x_test,y_train,y_test=train_test_split(df1,y,test_size=0.25,random_state=5)"
   ]
  },
  {
   "cell_type": "code",
   "execution_count": 25,
   "id": "3db9463e",
   "metadata": {
    "_cell_guid": "e6d0f3f1-ff67-46ce-a68a-7662841a29e6",
    "_uuid": "56361684-d9e0-45ab-899d-e2cd60d9b347",
    "collapsed": false,
    "execution": {
     "iopub.execute_input": "2024-04-29T10:40:01.332741Z",
     "iopub.status.busy": "2024-04-29T10:40:01.332373Z",
     "iopub.status.idle": "2024-04-29T10:40:01.338815Z",
     "shell.execute_reply": "2024-04-29T10:40:01.337865Z"
    },
    "jupyter": {
     "outputs_hidden": false
    },
    "papermill": {
     "duration": 0.032541,
     "end_time": "2024-04-29T10:40:01.340958",
     "exception": false,
     "start_time": "2024-04-29T10:40:01.308417",
     "status": "completed"
    },
    "tags": []
   },
   "outputs": [
    {
     "data": {
      "text/plain": [
       "((10227, 8), (3409, 8))"
      ]
     },
     "execution_count": 25,
     "metadata": {},
     "output_type": "execute_result"
    }
   ],
   "source": [
    "x_train.shape,x_test.shape"
   ]
  },
  {
   "cell_type": "code",
   "execution_count": 26,
   "id": "bc171493",
   "metadata": {
    "execution": {
     "iopub.execute_input": "2024-04-29T10:40:01.389659Z",
     "iopub.status.busy": "2024-04-29T10:40:01.388749Z",
     "iopub.status.idle": "2024-04-29T10:40:02.444541Z",
     "shell.execute_reply": "2024-04-29T10:40:02.443374Z"
    },
    "papermill": {
     "duration": 1.08336,
     "end_time": "2024-04-29T10:40:02.447150",
     "exception": false,
     "start_time": "2024-04-29T10:40:01.363790",
     "status": "completed"
    },
    "tags": []
   },
   "outputs": [
    {
     "name": "stderr",
     "output_type": "stream",
     "text": [
      "/opt/conda/lib/python3.10/site-packages/sklearn/feature_extraction/text.py:528: UserWarning: The parameter 'token_pattern' will not be used since 'tokenizer' is not None'\n",
      "  warnings.warn(\n"
     ]
    }
   ],
   "source": [
    "# Define the preprocessing steps for different columns\n",
    "from sklearn.pipeline import Pipeline\n",
    "from sklearn.preprocessing import Normalizer\n",
    "from sklearn.compose import ColumnTransformer\n",
    "numeric_transformer = Pipeline(steps=[('scaler', StandardScaler())])\n",
    "\n",
    "# Define the ColumnTransformer to apply different preprocessing steps to different columns\n",
    "preprocessor = ColumnTransformer(\n",
    "    transformers=[\n",
    "        ('num', numeric_transformer, ['ReplyCount', 'ThumbsUpCount', 'ThumbsDownCount', 'Review_Length', 'offensive_count','RecipeNumber']),  # Assuming these are the numerical columns\n",
    "        ('tfidf', tf, 'Recipe_Review'),('tfidf1', tf1, 'RecipeName')  # Assuming this is the text column\n",
    "    ])\n",
    "\n",
    "# Define the final pipeline including preprocessing and model fitting\n",
    "pipeline = Pipeline(steps=[('preprocessor', preprocessor)])\n",
    "\n",
    "# Fit and transform the data\n",
    "x_train = pipeline.fit_transform(x_train)  # Exclude non-feature columns from training data\n"
   ]
  },
  {
   "cell_type": "code",
   "execution_count": 27,
   "id": "f9f9ba45",
   "metadata": {
    "execution": {
     "iopub.execute_input": "2024-04-29T10:40:02.495604Z",
     "iopub.status.busy": "2024-04-29T10:40:02.495213Z",
     "iopub.status.idle": "2024-04-29T10:40:02.714333Z",
     "shell.execute_reply": "2024-04-29T10:40:02.713346Z"
    },
    "papermill": {
     "duration": 0.246178,
     "end_time": "2024-04-29T10:40:02.716854",
     "exception": false,
     "start_time": "2024-04-29T10:40:02.470676",
     "status": "completed"
    },
    "tags": []
   },
   "outputs": [],
   "source": [
    "x_test=pipeline.transform(x_test)"
   ]
  },
  {
   "cell_type": "code",
   "execution_count": null,
   "id": "a53b14e3",
   "metadata": {
    "papermill": {
     "duration": 0.022267,
     "end_time": "2024-04-29T10:40:02.762221",
     "exception": false,
     "start_time": "2024-04-29T10:40:02.739954",
     "status": "completed"
    },
    "tags": []
   },
   "outputs": [],
   "source": []
  },
  {
   "cell_type": "markdown",
   "id": "dc3c576e",
   "metadata": {
    "papermill": {
     "duration": 0.022557,
     "end_time": "2024-04-29T10:40:02.807581",
     "exception": false,
     "start_time": "2024-04-29T10:40:02.785024",
     "status": "completed"
    },
    "tags": []
   },
   "source": [
    "# Model fitting: LogisticRegression"
   ]
  },
  {
   "cell_type": "code",
   "execution_count": 28,
   "id": "cc75cccc",
   "metadata": {
    "_cell_guid": "4f67f680-2aa4-4daa-824b-48f4e6f07f96",
    "_uuid": "ef317c12-c063-465c-af65-47b39d99b475",
    "collapsed": false,
    "execution": {
     "iopub.execute_input": "2024-04-29T10:40:02.855062Z",
     "iopub.status.busy": "2024-04-29T10:40:02.854158Z",
     "iopub.status.idle": "2024-04-29T10:41:07.290035Z",
     "shell.execute_reply": "2024-04-29T10:41:07.288863Z"
    },
    "jupyter": {
     "outputs_hidden": false
    },
    "papermill": {
     "duration": 64.485233,
     "end_time": "2024-04-29T10:41:07.315608",
     "exception": false,
     "start_time": "2024-04-29T10:40:02.830375",
     "status": "completed"
    },
    "tags": []
   },
   "outputs": [
    {
     "name": "stdout",
     "output_type": "stream",
     "text": [
      "Fitting 3 folds for each of 4 candidates, totalling 12 fits\n"
     ]
    },
    {
     "data": {
      "text/html": [
       "<style>#sk-container-id-1 {color: black;background-color: white;}#sk-container-id-1 pre{padding: 0;}#sk-container-id-1 div.sk-toggleable {background-color: white;}#sk-container-id-1 label.sk-toggleable__label {cursor: pointer;display: block;width: 100%;margin-bottom: 0;padding: 0.3em;box-sizing: border-box;text-align: center;}#sk-container-id-1 label.sk-toggleable__label-arrow:before {content: \"▸\";float: left;margin-right: 0.25em;color: #696969;}#sk-container-id-1 label.sk-toggleable__label-arrow:hover:before {color: black;}#sk-container-id-1 div.sk-estimator:hover label.sk-toggleable__label-arrow:before {color: black;}#sk-container-id-1 div.sk-toggleable__content {max-height: 0;max-width: 0;overflow: hidden;text-align: left;background-color: #f0f8ff;}#sk-container-id-1 div.sk-toggleable__content pre {margin: 0.2em;color: black;border-radius: 0.25em;background-color: #f0f8ff;}#sk-container-id-1 input.sk-toggleable__control:checked~div.sk-toggleable__content {max-height: 200px;max-width: 100%;overflow: auto;}#sk-container-id-1 input.sk-toggleable__control:checked~label.sk-toggleable__label-arrow:before {content: \"▾\";}#sk-container-id-1 div.sk-estimator input.sk-toggleable__control:checked~label.sk-toggleable__label {background-color: #d4ebff;}#sk-container-id-1 div.sk-label input.sk-toggleable__control:checked~label.sk-toggleable__label {background-color: #d4ebff;}#sk-container-id-1 input.sk-hidden--visually {border: 0;clip: rect(1px 1px 1px 1px);clip: rect(1px, 1px, 1px, 1px);height: 1px;margin: -1px;overflow: hidden;padding: 0;position: absolute;width: 1px;}#sk-container-id-1 div.sk-estimator {font-family: monospace;background-color: #f0f8ff;border: 1px dotted black;border-radius: 0.25em;box-sizing: border-box;margin-bottom: 0.5em;}#sk-container-id-1 div.sk-estimator:hover {background-color: #d4ebff;}#sk-container-id-1 div.sk-parallel-item::after {content: \"\";width: 100%;border-bottom: 1px solid gray;flex-grow: 1;}#sk-container-id-1 div.sk-label:hover label.sk-toggleable__label {background-color: #d4ebff;}#sk-container-id-1 div.sk-serial::before {content: \"\";position: absolute;border-left: 1px solid gray;box-sizing: border-box;top: 0;bottom: 0;left: 50%;z-index: 0;}#sk-container-id-1 div.sk-serial {display: flex;flex-direction: column;align-items: center;background-color: white;padding-right: 0.2em;padding-left: 0.2em;position: relative;}#sk-container-id-1 div.sk-item {position: relative;z-index: 1;}#sk-container-id-1 div.sk-parallel {display: flex;align-items: stretch;justify-content: center;background-color: white;position: relative;}#sk-container-id-1 div.sk-item::before, #sk-container-id-1 div.sk-parallel-item::before {content: \"\";position: absolute;border-left: 1px solid gray;box-sizing: border-box;top: 0;bottom: 0;left: 50%;z-index: -1;}#sk-container-id-1 div.sk-parallel-item {display: flex;flex-direction: column;z-index: 1;position: relative;background-color: white;}#sk-container-id-1 div.sk-parallel-item:first-child::after {align-self: flex-end;width: 50%;}#sk-container-id-1 div.sk-parallel-item:last-child::after {align-self: flex-start;width: 50%;}#sk-container-id-1 div.sk-parallel-item:only-child::after {width: 0;}#sk-container-id-1 div.sk-dashed-wrapped {border: 1px dashed gray;margin: 0 0.4em 0.5em 0.4em;box-sizing: border-box;padding-bottom: 0.4em;background-color: white;}#sk-container-id-1 div.sk-label label {font-family: monospace;font-weight: bold;display: inline-block;line-height: 1.2em;}#sk-container-id-1 div.sk-label-container {text-align: center;}#sk-container-id-1 div.sk-container {/* jupyter's `normalize.less` sets `[hidden] { display: none; }` but bootstrap.min.css set `[hidden] { display: none !important; }` so we also need the `!important` here to be able to override the default hidden behavior on the sphinx rendered scikit-learn.org. See: https://github.com/scikit-learn/scikit-learn/issues/21755 */display: inline-block !important;position: relative;}#sk-container-id-1 div.sk-text-repr-fallback {display: none;}</style><div id=\"sk-container-id-1\" class=\"sk-top-container\"><div class=\"sk-text-repr-fallback\"><pre>GridSearchCV(cv=3, estimator=LogisticRegression(max_iter=3000), n_jobs=-1,\n",
       "             param_grid={&#x27;solver&#x27;: [&#x27;liblinear&#x27;, &#x27;newton-cg&#x27;, &#x27;sag&#x27;, &#x27;lbfgs&#x27;]},\n",
       "             return_train_score=True, scoring=&#x27;accuracy&#x27;, verbose=3)</pre><b>In a Jupyter environment, please rerun this cell to show the HTML representation or trust the notebook. <br />On GitHub, the HTML representation is unable to render, please try loading this page with nbviewer.org.</b></div><div class=\"sk-container\" hidden><div class=\"sk-item sk-dashed-wrapped\"><div class=\"sk-label-container\"><div class=\"sk-label sk-toggleable\"><input class=\"sk-toggleable__control sk-hidden--visually\" id=\"sk-estimator-id-1\" type=\"checkbox\" ><label for=\"sk-estimator-id-1\" class=\"sk-toggleable__label sk-toggleable__label-arrow\">GridSearchCV</label><div class=\"sk-toggleable__content\"><pre>GridSearchCV(cv=3, estimator=LogisticRegression(max_iter=3000), n_jobs=-1,\n",
       "             param_grid={&#x27;solver&#x27;: [&#x27;liblinear&#x27;, &#x27;newton-cg&#x27;, &#x27;sag&#x27;, &#x27;lbfgs&#x27;]},\n",
       "             return_train_score=True, scoring=&#x27;accuracy&#x27;, verbose=3)</pre></div></div></div><div class=\"sk-parallel\"><div class=\"sk-parallel-item\"><div class=\"sk-item\"><div class=\"sk-label-container\"><div class=\"sk-label sk-toggleable\"><input class=\"sk-toggleable__control sk-hidden--visually\" id=\"sk-estimator-id-2\" type=\"checkbox\" ><label for=\"sk-estimator-id-2\" class=\"sk-toggleable__label sk-toggleable__label-arrow\">estimator: LogisticRegression</label><div class=\"sk-toggleable__content\"><pre>LogisticRegression(max_iter=3000)</pre></div></div></div><div class=\"sk-serial\"><div class=\"sk-item\"><div class=\"sk-estimator sk-toggleable\"><input class=\"sk-toggleable__control sk-hidden--visually\" id=\"sk-estimator-id-3\" type=\"checkbox\" ><label for=\"sk-estimator-id-3\" class=\"sk-toggleable__label sk-toggleable__label-arrow\">LogisticRegression</label><div class=\"sk-toggleable__content\"><pre>LogisticRegression(max_iter=3000)</pre></div></div></div></div></div></div></div></div></div></div>"
      ],
      "text/plain": [
       "GridSearchCV(cv=3, estimator=LogisticRegression(max_iter=3000), n_jobs=-1,\n",
       "             param_grid={'solver': ['liblinear', 'newton-cg', 'sag', 'lbfgs']},\n",
       "             return_train_score=True, scoring='accuracy', verbose=3)"
      ]
     },
     "execution_count": 28,
     "metadata": {},
     "output_type": "execute_result"
    }
   ],
   "source": [
    "#took 250seconds , score 0.7715\n",
    "from sklearn.linear_model import LogisticRegression\n",
    "logreg = LogisticRegression(max_iter=3000)\n",
    "\n",
    "params = {'solver': ['liblinear','newton-cg','sag', 'lbfgs']}\n",
    "\n",
    "grid_search_log_reg = GridSearchCV(logreg, params, verbose=3,n_jobs=-1, cv=3, scoring='accuracy', return_train_score=True)\n",
    "grid_search_log_reg.fit(x_train, y_train)"
   ]
  },
  {
   "cell_type": "code",
   "execution_count": 29,
   "id": "f4c8083e",
   "metadata": {
    "_cell_guid": "044b7a43-2b33-4dc2-a256-2021b5d10c5b",
    "_uuid": "dcd00fd7-7417-46d6-ab65-6e189025a591",
    "collapsed": false,
    "execution": {
     "iopub.execute_input": "2024-04-29T10:41:07.364665Z",
     "iopub.status.busy": "2024-04-29T10:41:07.364258Z",
     "iopub.status.idle": "2024-04-29T10:41:07.383384Z",
     "shell.execute_reply": "2024-04-29T10:41:07.382209Z"
    },
    "jupyter": {
     "outputs_hidden": false
    },
    "papermill": {
     "duration": 0.046389,
     "end_time": "2024-04-29T10:41:07.385548",
     "exception": false,
     "start_time": "2024-04-29T10:41:07.339159",
     "status": "completed"
    },
    "tags": []
   },
   "outputs": [
    {
     "data": {
      "text/html": [
       "<div>\n",
       "<style scoped>\n",
       "    .dataframe tbody tr th:only-of-type {\n",
       "        vertical-align: middle;\n",
       "    }\n",
       "\n",
       "    .dataframe tbody tr th {\n",
       "        vertical-align: top;\n",
       "    }\n",
       "\n",
       "    .dataframe thead th {\n",
       "        text-align: right;\n",
       "    }\n",
       "</style>\n",
       "<table border=\"1\" class=\"dataframe\">\n",
       "  <thead>\n",
       "    <tr style=\"text-align: right;\">\n",
       "      <th></th>\n",
       "      <th>mean_fit_time</th>\n",
       "      <th>mean_test_score</th>\n",
       "      <th>mean_train_score</th>\n",
       "      <th>rank_test_score</th>\n",
       "    </tr>\n",
       "    <tr>\n",
       "      <th>params</th>\n",
       "      <th></th>\n",
       "      <th></th>\n",
       "      <th></th>\n",
       "      <th></th>\n",
       "    </tr>\n",
       "  </thead>\n",
       "  <tbody>\n",
       "    <tr>\n",
       "      <th>{'solver': 'sag'}</th>\n",
       "      <td>27.482463</td>\n",
       "      <td>0.772856</td>\n",
       "      <td>0.818911</td>\n",
       "      <td>1</td>\n",
       "    </tr>\n",
       "    <tr>\n",
       "      <th>{'solver': 'newton-cg'}</th>\n",
       "      <td>2.632035</td>\n",
       "      <td>0.772758</td>\n",
       "      <td>0.818471</td>\n",
       "      <td>2</td>\n",
       "    </tr>\n",
       "    <tr>\n",
       "      <th>{'solver': 'lbfgs'}</th>\n",
       "      <td>2.754702</td>\n",
       "      <td>0.772758</td>\n",
       "      <td>0.818520</td>\n",
       "      <td>2</td>\n",
       "    </tr>\n",
       "    <tr>\n",
       "      <th>{'solver': 'liblinear'}</th>\n",
       "      <td>1.043008</td>\n",
       "      <td>0.769727</td>\n",
       "      <td>0.793292</td>\n",
       "      <td>4</td>\n",
       "    </tr>\n",
       "  </tbody>\n",
       "</table>\n",
       "</div>"
      ],
      "text/plain": [
       "                         mean_fit_time  mean_test_score  mean_train_score  \\\n",
       "params                                                                      \n",
       "{'solver': 'sag'}            27.482463         0.772856          0.818911   \n",
       "{'solver': 'newton-cg'}       2.632035         0.772758          0.818471   \n",
       "{'solver': 'lbfgs'}           2.754702         0.772758          0.818520   \n",
       "{'solver': 'liblinear'}       1.043008         0.769727          0.793292   \n",
       "\n",
       "                         rank_test_score  \n",
       "params                                    \n",
       "{'solver': 'sag'}                      1  \n",
       "{'solver': 'newton-cg'}                2  \n",
       "{'solver': 'lbfgs'}                    2  \n",
       "{'solver': 'liblinear'}                4  "
      ]
     },
     "execution_count": 29,
     "metadata": {},
     "output_type": "execute_result"
    }
   ],
   "source": [
    "pd.DataFrame(grid_search_log_reg.cv_results_, columns=['params','mean_fit_time','mean_test_score','mean_train_score','rank_test_score']).sort_values(by='rank_test_score').set_index('params').head()"
   ]
  },
  {
   "cell_type": "markdown",
   "id": "e7ec1f5d",
   "metadata": {
    "_cell_guid": "97cbd44a-2483-4e9d-a0e8-282c90e24165",
    "_uuid": "10a03d74-90f2-45ce-a808-145406e556d1",
    "papermill": {
     "duration": 0.025032,
     "end_time": "2024-04-29T10:41:07.434457",
     "exception": false,
     "start_time": "2024-04-29T10:41:07.409425",
     "status": "completed"
    },
    "tags": []
   },
   "source": [
    "with liblinear solver this model is working good , and overfits on training data for the other solvers"
   ]
  },
  {
   "cell_type": "code",
   "execution_count": 30,
   "id": "99c6dbeb",
   "metadata": {
    "_cell_guid": "79c29507-5711-4ec2-ad5d-63754115419d",
    "_uuid": "421f7e8f-a37e-465c-b4a0-939b61e1b0a8",
    "collapsed": false,
    "execution": {
     "iopub.execute_input": "2024-04-29T10:41:07.483251Z",
     "iopub.status.busy": "2024-04-29T10:41:07.482871Z",
     "iopub.status.idle": "2024-04-29T10:41:14.144299Z",
     "shell.execute_reply": "2024-04-29T10:41:14.143187Z"
    },
    "jupyter": {
     "outputs_hidden": false
    },
    "papermill": {
     "duration": 6.690142,
     "end_time": "2024-04-29T10:41:14.148138",
     "exception": false,
     "start_time": "2024-04-29T10:41:07.457996",
     "status": "completed"
    },
    "tags": []
   },
   "outputs": [
    {
     "data": {
      "image/png": "[encoded data removed]",
      "text/plain": [
       "<Figure size 800x550 with 2 Axes>"
      ]
     },
     "metadata": {},
     "output_type": "display_data"
    },
    {
     "name": "stdout",
     "output_type": "stream",
     "text": [
      "              precision    recall  f1-score   support\n",
      "\n",
      "           0       0.49      0.15      0.23       317\n",
      "           1       0.47      0.12      0.20        64\n",
      "           2       0.00      0.00      0.00        40\n",
      "           3       0.23      0.03      0.06        90\n",
      "           4       0.40      0.08      0.13       315\n",
      "           5       0.79      0.99      0.88      2583\n",
      "\n",
      "    accuracy                           0.77      3409\n",
      "   macro avg       0.40      0.23      0.25      3409\n",
      "weighted avg       0.70      0.77      0.70      3409\n",
      "\n"
     ]
    },
    {
     "name": "stderr",
     "output_type": "stream",
     "text": [
      "/opt/conda/lib/python3.10/site-packages/sklearn/metrics/_classification.py:1344: UndefinedMetricWarning: Precision and F-score are ill-defined and being set to 0.0 in labels with no predicted samples. Use `zero_division` parameter to control this behavior.\n",
      "  _warn_prf(average, modifier, msg_start, len(result))\n",
      "/opt/conda/lib/python3.10/site-packages/sklearn/metrics/_classification.py:1344: UndefinedMetricWarning: Precision and F-score are ill-defined and being set to 0.0 in labels with no predicted samples. Use `zero_division` parameter to control this behavior.\n",
      "  _warn_prf(average, modifier, msg_start, len(result))\n",
      "/opt/conda/lib/python3.10/site-packages/sklearn/metrics/_classification.py:1344: UndefinedMetricWarning: Precision and F-score are ill-defined and being set to 0.0 in labels with no predicted samples. Use `zero_division` parameter to control this behavior.\n",
      "  _warn_prf(average, modifier, msg_start, len(result))\n"
     ]
    }
   ],
   "source": [
    "#result of gridseachcv score 0.7717\n",
    "from sklearn.linear_model import LogisticRegression\n",
    "lr=LogisticRegression(solver='lbfgs',max_iter=10000)\n",
    "lr.fit(x_train,y_train)\n",
    "lr.score(x_train,y_train),lr.score(x_test,y_test)\n",
    "\n",
    "from sklearn.metrics import accuracy_score, confusion_matrix, classification_report, ConfusionMatrixDisplay\n",
    "import seaborn as sns\n",
    "import matplotlib.pyplot as plt\n",
    "cf_matrix = confusion_matrix(y_test, lr.predict(x_test))\n",
    "sns.heatmap(cf_matrix, annot=True, fmt='.4g', cmap='Reds')\n",
    "plt.show()\n",
    "print(classification_report(y_test,lr.predict(x_test)))"
   ]
  },
  {
   "cell_type": "code",
   "execution_count": 31,
   "id": "daec577e",
   "metadata": {
    "_cell_guid": "6a054630-52cd-405d-a33e-584c35b9685e",
    "_uuid": "72ab9ee1-2b2d-4992-a550-98bc2b69cac9",
    "collapsed": false,
    "execution": {
     "iopub.execute_input": "2024-04-29T10:41:14.200464Z",
     "iopub.status.busy": "2024-04-29T10:41:14.200057Z",
     "iopub.status.idle": "2024-04-29T10:41:14.208571Z",
     "shell.execute_reply": "2024-04-29T10:41:14.207643Z"
    },
    "jupyter": {
     "outputs_hidden": false
    },
    "papermill": {
     "duration": 0.036537,
     "end_time": "2024-04-29T10:41:14.210685",
     "exception": false,
     "start_time": "2024-04-29T10:41:14.174148",
     "status": "completed"
    },
    "tags": []
   },
   "outputs": [
    {
     "data": {
      "text/plain": [
       "0.7717805808154884"
      ]
     },
     "execution_count": 31,
     "metadata": {},
     "output_type": "execute_result"
    }
   ],
   "source": [
    "lr.score(x_test,y_test)"
   ]
  },
  {
   "cell_type": "markdown",
   "id": "fcb2b598",
   "metadata": {
    "_cell_guid": "3dae9dca-2f84-4019-a795-9b417782c676",
    "_uuid": "69c4e106-a431-421f-a556-b63612e07dca",
    "papermill": {
     "duration": 0.024301,
     "end_time": "2024-04-29T10:41:14.260081",
     "exception": false,
     "start_time": "2024-04-29T10:41:14.235780",
     "status": "completed"
    },
    "tags": []
   },
   "source": [
    "#### log-regression base model"
   ]
  },
  {
   "cell_type": "code",
   "execution_count": 32,
   "id": "a00b643f",
   "metadata": {
    "_cell_guid": "b8688111-f53d-400a-b3cc-e0272efda7f3",
    "_uuid": "084f150b-08d9-4219-8508-536a1d8b4c36",
    "collapsed": false,
    "execution": {
     "iopub.execute_input": "2024-04-29T10:41:14.310839Z",
     "iopub.status.busy": "2024-04-29T10:41:14.310120Z",
     "iopub.status.idle": "2024-04-29T10:41:14.316521Z",
     "shell.execute_reply": "2024-04-29T10:41:14.315584Z"
    },
    "jupyter": {
     "outputs_hidden": false
    },
    "papermill": {
     "duration": 0.033962,
     "end_time": "2024-04-29T10:41:14.318571",
     "exception": false,
     "start_time": "2024-04-29T10:41:14.284609",
     "status": "completed"
    },
    "tags": []
   },
   "outputs": [
    {
     "data": {
      "text/plain": [
       "\"from sklearn.linear_model import LogisticRegression\\nlogi_reg = LogisticRegression(max_iter=1000, penalty='l2', C=1, solver='lbfgs')\\nlogi_reg.fit(x_train, y_train)\\n\\n\\nfrom sklearn.metrics import accuracy_score, confusion_matrix, classification_report, ConfusionMatrixDisplay\\nimport seaborn as sns\\nimport matplotlib.pyplot as plt\\ncf_matrix = confusion_matrix(y_test, logi_reg.predict(x_test))\\nsns.heatmap(cf_matrix, annot=True, fmt='.4g', cmap='Reds')\\nplt.show()\\nprint(classification_report(y_test,logi_reg.predict(x_test)))\\n\""
      ]
     },
     "execution_count": 32,
     "metadata": {},
     "output_type": "execute_result"
    }
   ],
   "source": [
    "'''from sklearn.linear_model import LogisticRegression\n",
    "logi_reg = LogisticRegression(max_iter=1000, penalty='l2', C=1, solver='lbfgs')\n",
    "logi_reg.fit(x_train, y_train)\n",
    "\n",
    "\n",
    "from sklearn.metrics import accuracy_score, confusion_matrix, classification_report, ConfusionMatrixDisplay\n",
    "import seaborn as sns\n",
    "import matplotlib.pyplot as plt\n",
    "cf_matrix = confusion_matrix(y_test, logi_reg.predict(x_test))\n",
    "sns.heatmap(cf_matrix, annot=True, fmt='.4g', cmap='Reds')\n",
    "plt.show()\n",
    "print(classification_report(y_test,logi_reg.predict(x_test)))\n",
    "'''\n",
    "#scoring 0.767"
   ]
  },
  {
   "cell_type": "code",
   "execution_count": 33,
   "id": "458db5db",
   "metadata": {
    "_cell_guid": "4e74fcba-df18-4863-940e-aa34b9a35e1d",
    "_uuid": "e065a2d6-e081-47a8-865c-4631d674f17c",
    "collapsed": false,
    "execution": {
     "iopub.execute_input": "2024-04-29T10:41:14.370016Z",
     "iopub.status.busy": "2024-04-29T10:41:14.369659Z",
     "iopub.status.idle": "2024-04-29T10:41:14.374020Z",
     "shell.execute_reply": "2024-04-29T10:41:14.373023Z"
    },
    "jupyter": {
     "outputs_hidden": false
    },
    "papermill": {
     "duration": 0.032861,
     "end_time": "2024-04-29T10:41:14.376078",
     "exception": false,
     "start_time": "2024-04-29T10:41:14.343217",
     "status": "completed"
    },
    "tags": []
   },
   "outputs": [],
   "source": [
    "#logi_reg.score(x_test,y_test) #0.7717"
   ]
  },
  {
   "cell_type": "markdown",
   "id": "88f26504",
   "metadata": {
    "_cell_guid": "4b2673aa-72fa-4b79-a595-9c7e3c851e8b",
    "_uuid": "59147fbd-1f17-47f6-ab08-002b793ffece",
    "papermill": {
     "duration": 0.024771,
     "end_time": "2024-04-29T10:41:14.425736",
     "exception": false,
     "start_time": "2024-04-29T10:41:14.400965",
     "status": "completed"
    },
    "tags": []
   },
   "source": [
    "# model fitting : KNeighborsClassifier"
   ]
  },
  {
   "cell_type": "code",
   "execution_count": 34,
   "id": "a200a76b",
   "metadata": {
    "_cell_guid": "9ec21f9e-ff9f-483e-bcc0-4e1f1ff0055f",
    "_uuid": "f7eb0162-4c01-4516-8a5b-94244f8d9ff6",
    "collapsed": false,
    "execution": {
     "iopub.execute_input": "2024-04-29T10:41:14.478946Z",
     "iopub.status.busy": "2024-04-29T10:41:14.477982Z",
     "iopub.status.idle": "2024-04-29T10:46:34.259019Z",
     "shell.execute_reply": "2024-04-29T10:46:34.257973Z"
    },
    "jupyter": {
     "outputs_hidden": false
    },
    "papermill": {
     "duration": 319.834906,
     "end_time": "2024-04-29T10:46:34.287197",
     "exception": false,
     "start_time": "2024-04-29T10:41:14.452291",
     "status": "completed"
    },
    "tags": []
   },
   "outputs": [
    {
     "name": "stdout",
     "output_type": "stream",
     "text": [
      "Fitting 3 folds for each of 3 candidates, totalling 9 fits\n",
      "[CV 1/3] END n_neighbors=10, weights=distance;, score=(train=1.000, test=0.766) total time=  11.8s\n",
      "[CV 2/3] END n_neighbors=10, weights=distance;, score=(train=1.000, test=0.762) total time=  11.8s\n",
      "[CV 3/3] END n_neighbors=10, weights=distance;, score=(train=1.000, test=0.760) total time=  11.8s\n",
      "[CV 1/3] END n_neighbors=20, weights=distance;, score=(train=1.000, test=0.770) total time=  11.9s\n",
      "[CV 2/3] END n_neighbors=20, weights=distance;, score=(train=1.000, test=0.765) total time=  11.8s\n",
      "[CV 3/3] END n_neighbors=20, weights=distance;, score=(train=1.000, test=0.766) total time=  11.7s\n",
      "[CV 1/3] END solver=liblinear;, score=(train=0.792, test=0.774) total time=   1.0s\n",
      "[CV 2/3] END solver=newton-cg;, score=(train=0.820, test=0.769) total time=   2.8s\n",
      "[CV 1/3] END ..solver=lbfgs;, score=(train=0.819, test=0.778) total time=   2.9s\n",
      "[CV 2/3] END ..solver=lbfgs;, score=(train=0.820, test=0.769) total time=   2.6s\n",
      "[CV 3/3] END ..solver=lbfgs;, score=(train=0.816, test=0.771) total time=   2.7s\n",
      "[CV 1/3] END n_neighbors=30, weights=distance;, score=(train=1.000, test=0.771) total time=  12.2s\n",
      "[CV 1/3] END solver=newton-cg;, score=(train=0.819, test=0.778) total time=   2.5s\n",
      "[CV 2/3] END ....solver=sag;, score=(train=0.820, test=0.770) total time=  23.5s\n",
      "[CV 2/3] END solver=liblinear;, score=(train=0.794, test=0.769) total time=   1.1s\n",
      "[CV 1/3] END ....solver=sag;, score=(train=0.820, test=0.778) total time=  29.1s\n",
      "[CV 3/3] END solver=liblinear;, score=(train=0.793, test=0.767) total time=   1.0s\n",
      "[CV 3/3] END solver=newton-cg;, score=(train=0.816, test=0.771) total time=   2.5s\n",
      "[CV 3/3] END ....solver=sag;, score=(train=0.817, test=0.771) total time=  29.9s\n",
      "[CV 2/3] END n_neighbors=30, weights=distance;, score=(train=1.000, test=0.765) total time=  12.3s\n",
      "[CV 3/3] END n_neighbors=30, weights=distance;, score=(train=1.000, test=0.766) total time=  12.2s\n"
     ]
    },
    {
     "data": {
      "text/html": [
       "<style>#sk-container-id-2 {color: black;background-color: white;}#sk-container-id-2 pre{padding: 0;}#sk-container-id-2 div.sk-toggleable {background-color: white;}#sk-container-id-2 label.sk-toggleable__label {cursor: pointer;display: block;width: 100%;margin-bottom: 0;padding: 0.3em;box-sizing: border-box;text-align: center;}#sk-container-id-2 label.sk-toggleable__label-arrow:before {content: \"▸\";float: left;margin-right: 0.25em;color: #696969;}#sk-container-id-2 label.sk-toggleable__label-arrow:hover:before {color: black;}#sk-container-id-2 div.sk-estimator:hover label.sk-toggleable__label-arrow:before {color: black;}#sk-container-id-2 div.sk-toggleable__content {max-height: 0;max-width: 0;overflow: hidden;text-align: left;background-color: #f0f8ff;}#sk-container-id-2 div.sk-toggleable__content pre {margin: 0.2em;color: black;border-radius: 0.25em;background-color: #f0f8ff;}#sk-container-id-2 input.sk-toggleable__control:checked~div.sk-toggleable__content {max-height: 200px;max-width: 100%;overflow: auto;}#sk-container-id-2 input.sk-toggleable__control:checked~label.sk-toggleable__label-arrow:before {content: \"▾\";}#sk-container-id-2 div.sk-estimator input.sk-toggleable__control:checked~label.sk-toggleable__label {background-color: #d4ebff;}#sk-container-id-2 div.sk-label input.sk-toggleable__control:checked~label.sk-toggleable__label {background-color: #d4ebff;}#sk-container-id-2 input.sk-hidden--visually {border: 0;clip: rect(1px 1px 1px 1px);clip: rect(1px, 1px, 1px, 1px);height: 1px;margin: -1px;overflow: hidden;padding: 0;position: absolute;width: 1px;}#sk-container-id-2 div.sk-estimator {font-family: monospace;background-color: #f0f8ff;border: 1px dotted black;border-radius: 0.25em;box-sizing: border-box;margin-bottom: 0.5em;}#sk-container-id-2 div.sk-estimator:hover {background-color: #d4ebff;}#sk-container-id-2 div.sk-parallel-item::after {content: \"\";width: 100%;border-bottom: 1px solid gray;flex-grow: 1;}#sk-container-id-2 div.sk-label:hover label.sk-toggleable__label {background-color: #d4ebff;}#sk-container-id-2 div.sk-serial::before {content: \"\";position: absolute;border-left: 1px solid gray;box-sizing: border-box;top: 0;bottom: 0;left: 50%;z-index: 0;}#sk-container-id-2 div.sk-serial {display: flex;flex-direction: column;align-items: center;background-color: white;padding-right: 0.2em;padding-left: 0.2em;position: relative;}#sk-container-id-2 div.sk-item {position: relative;z-index: 1;}#sk-container-id-2 div.sk-parallel {display: flex;align-items: stretch;justify-content: center;background-color: white;position: relative;}#sk-container-id-2 div.sk-item::before, #sk-container-id-2 div.sk-parallel-item::before {content: \"\";position: absolute;border-left: 1px solid gray;box-sizing: border-box;top: 0;bottom: 0;left: 50%;z-index: -1;}#sk-container-id-2 div.sk-parallel-item {display: flex;flex-direction: column;z-index: 1;position: relative;background-color: white;}#sk-container-id-2 div.sk-parallel-item:first-child::after {align-self: flex-end;width: 50%;}#sk-container-id-2 div.sk-parallel-item:last-child::after {align-self: flex-start;width: 50%;}#sk-container-id-2 div.sk-parallel-item:only-child::after {width: 0;}#sk-container-id-2 div.sk-dashed-wrapped {border: 1px dashed gray;margin: 0 0.4em 0.5em 0.4em;box-sizing: border-box;padding-bottom: 0.4em;background-color: white;}#sk-container-id-2 div.sk-label label {font-family: monospace;font-weight: bold;display: inline-block;line-height: 1.2em;}#sk-container-id-2 div.sk-label-container {text-align: center;}#sk-container-id-2 div.sk-container {/* jupyter's `normalize.less` sets `[hidden] { display: none; }` but bootstrap.min.css set `[hidden] { display: none !important; }` so we also need the `!important` here to be able to override the default hidden behavior on the sphinx rendered scikit-learn.org. See: https://github.com/scikit-learn/scikit-learn/issues/21755 */display: inline-block !important;position: relative;}#sk-container-id-2 div.sk-text-repr-fallback {display: none;}</style><div id=\"sk-container-id-2\" class=\"sk-top-container\"><div class=\"sk-text-repr-fallback\"><pre>GridSearchCV(cv=3, estimator=KNeighborsClassifier(),\n",
       "             param_grid={&#x27;n_neighbors&#x27;: [10, 20, 30], &#x27;weights&#x27;: [&#x27;distance&#x27;]},\n",
       "             return_train_score=True, verbose=3)</pre><b>In a Jupyter environment, please rerun this cell to show the HTML representation or trust the notebook. <br />On GitHub, the HTML representation is unable to render, please try loading this page with nbviewer.org.</b></div><div class=\"sk-container\" hidden><div class=\"sk-item sk-dashed-wrapped\"><div class=\"sk-label-container\"><div class=\"sk-label sk-toggleable\"><input class=\"sk-toggleable__control sk-hidden--visually\" id=\"sk-estimator-id-4\" type=\"checkbox\" ><label for=\"sk-estimator-id-4\" class=\"sk-toggleable__label sk-toggleable__label-arrow\">GridSearchCV</label><div class=\"sk-toggleable__content\"><pre>GridSearchCV(cv=3, estimator=KNeighborsClassifier(),\n",
       "             param_grid={&#x27;n_neighbors&#x27;: [10, 20, 30], &#x27;weights&#x27;: [&#x27;distance&#x27;]},\n",
       "             return_train_score=True, verbose=3)</pre></div></div></div><div class=\"sk-parallel\"><div class=\"sk-parallel-item\"><div class=\"sk-item\"><div class=\"sk-label-container\"><div class=\"sk-label sk-toggleable\"><input class=\"sk-toggleable__control sk-hidden--visually\" id=\"sk-estimator-id-5\" type=\"checkbox\" ><label for=\"sk-estimator-id-5\" class=\"sk-toggleable__label sk-toggleable__label-arrow\">estimator: KNeighborsClassifier</label><div class=\"sk-toggleable__content\"><pre>KNeighborsClassifier()</pre></div></div></div><div class=\"sk-serial\"><div class=\"sk-item\"><div class=\"sk-estimator sk-toggleable\"><input class=\"sk-toggleable__control sk-hidden--visually\" id=\"sk-estimator-id-6\" type=\"checkbox\" ><label for=\"sk-estimator-id-6\" class=\"sk-toggleable__label sk-toggleable__label-arrow\">KNeighborsClassifier</label><div class=\"sk-toggleable__content\"><pre>KNeighborsClassifier()</pre></div></div></div></div></div></div></div></div></div></div>"
      ],
      "text/plain": [
       "GridSearchCV(cv=3, estimator=KNeighborsClassifier(),\n",
       "             param_grid={'n_neighbors': [10, 20, 30], 'weights': ['distance']},\n",
       "             return_train_score=True, verbose=3)"
      ]
     },
     "execution_count": 34,
     "metadata": {},
     "output_type": "execute_result"
    }
   ],
   "source": [
    "#score 0.7638\n",
    "from sklearn.neighbors import KNeighborsClassifier\n",
    "\n",
    "# Initialize the KNN Classifier\n",
    "knn= KNeighborsClassifier()  # You can adjust the number of neighbors (K) as needed\n",
    "params={'n_neighbors':[10,20,30],'weights':['distance']}\n",
    "grid_search_knn=GridSearchCV(knn,params,cv=3,verbose=3,return_train_score=True)\n",
    "# Train the model on the training data\n",
    "grid_search_knn.fit(x_train, y_train)"
   ]
  },
  {
   "cell_type": "code",
   "execution_count": 35,
   "id": "4238c87a",
   "metadata": {
    "execution": {
     "iopub.execute_input": "2024-04-29T10:46:34.340165Z",
     "iopub.status.busy": "2024-04-29T10:46:34.339788Z",
     "iopub.status.idle": "2024-04-29T10:46:34.355410Z",
     "shell.execute_reply": "2024-04-29T10:46:34.354321Z"
    },
    "papermill": {
     "duration": 0.044133,
     "end_time": "2024-04-29T10:46:34.357382",
     "exception": false,
     "start_time": "2024-04-29T10:46:34.313249",
     "status": "completed"
    },
    "tags": []
   },
   "outputs": [
    {
     "data": {
      "text/html": [
       "<div>\n",
       "<style scoped>\n",
       "    .dataframe tbody tr th:only-of-type {\n",
       "        vertical-align: middle;\n",
       "    }\n",
       "\n",
       "    .dataframe tbody tr th {\n",
       "        vertical-align: top;\n",
       "    }\n",
       "\n",
       "    .dataframe thead th {\n",
       "        text-align: right;\n",
       "    }\n",
       "</style>\n",
       "<table border=\"1\" class=\"dataframe\">\n",
       "  <thead>\n",
       "    <tr style=\"text-align: right;\">\n",
       "      <th></th>\n",
       "      <th>mean_fit_time</th>\n",
       "      <th>mean_test_score</th>\n",
       "      <th>mean_train_score</th>\n",
       "      <th>rank_test_score</th>\n",
       "    </tr>\n",
       "    <tr>\n",
       "      <th>params</th>\n",
       "      <th></th>\n",
       "      <th></th>\n",
       "      <th></th>\n",
       "      <th></th>\n",
       "    </tr>\n",
       "  </thead>\n",
       "  <tbody>\n",
       "    <tr>\n",
       "      <th>{'n_neighbors': 30, 'weights': 'distance'}</th>\n",
       "      <td>0.003966</td>\n",
       "      <td>0.767380</td>\n",
       "      <td>0.999756</td>\n",
       "      <td>1</td>\n",
       "    </tr>\n",
       "    <tr>\n",
       "      <th>{'n_neighbors': 20, 'weights': 'distance'}</th>\n",
       "      <td>0.004001</td>\n",
       "      <td>0.766892</td>\n",
       "      <td>0.999756</td>\n",
       "      <td>2</td>\n",
       "    </tr>\n",
       "    <tr>\n",
       "      <th>{'n_neighbors': 10, 'weights': 'distance'}</th>\n",
       "      <td>0.004047</td>\n",
       "      <td>0.762589</td>\n",
       "      <td>0.999756</td>\n",
       "      <td>3</td>\n",
       "    </tr>\n",
       "  </tbody>\n",
       "</table>\n",
       "</div>"
      ],
      "text/plain": [
       "                                            mean_fit_time  mean_test_score  \\\n",
       "params                                                                       \n",
       "{'n_neighbors': 30, 'weights': 'distance'}       0.003966         0.767380   \n",
       "{'n_neighbors': 20, 'weights': 'distance'}       0.004001         0.766892   \n",
       "{'n_neighbors': 10, 'weights': 'distance'}       0.004047         0.762589   \n",
       "\n",
       "                                            mean_train_score  rank_test_score  \n",
       "params                                                                         \n",
       "{'n_neighbors': 30, 'weights': 'distance'}          0.999756                1  \n",
       "{'n_neighbors': 20, 'weights': 'distance'}          0.999756                2  \n",
       "{'n_neighbors': 10, 'weights': 'distance'}          0.999756                3  "
      ]
     },
     "execution_count": 35,
     "metadata": {},
     "output_type": "execute_result"
    }
   ],
   "source": [
    "pd.DataFrame(grid_search_knn.cv_results_, columns=['params','mean_fit_time','mean_test_score','mean_train_score','rank_test_score']).sort_values(by='rank_test_score').set_index('params').head()"
   ]
  },
  {
   "cell_type": "code",
   "execution_count": 36,
   "id": "165d148b",
   "metadata": {
    "execution": {
     "iopub.execute_input": "2024-04-29T10:46:34.410371Z",
     "iopub.status.busy": "2024-04-29T10:46:34.409950Z",
     "iopub.status.idle": "2024-04-29T10:46:34.416307Z",
     "shell.execute_reply": "2024-04-29T10:46:34.415296Z"
    },
    "papermill": {
     "duration": 0.035685,
     "end_time": "2024-04-29T10:46:34.418653",
     "exception": false,
     "start_time": "2024-04-29T10:46:34.382968",
     "status": "completed"
    },
    "tags": []
   },
   "outputs": [
    {
     "data": {
      "text/plain": [
       "{'n_neighbors': 30, 'weights': 'distance'}"
      ]
     },
     "execution_count": 36,
     "metadata": {},
     "output_type": "execute_result"
    }
   ],
   "source": [
    "knn=grid_search_knn.best_params_\n",
    "knn"
   ]
  },
  {
   "cell_type": "code",
   "execution_count": 37,
   "id": "5ff7f274",
   "metadata": {
    "execution": {
     "iopub.execute_input": "2024-04-29T10:46:34.472790Z",
     "iopub.status.busy": "2024-04-29T10:46:34.472015Z",
     "iopub.status.idle": "2024-04-29T10:47:25.799761Z",
     "shell.execute_reply": "2024-04-29T10:47:25.798781Z"
    },
    "papermill": {
     "duration": 51.35911,
     "end_time": "2024-04-29T10:47:25.803878",
     "exception": false,
     "start_time": "2024-04-29T10:46:34.444768",
     "status": "completed"
    },
    "tags": []
   },
   "outputs": [
    {
     "name": "stdout",
     "output_type": "stream",
     "text": [
      "Accuracy: 0.769140510413611\n"
     ]
    },
    {
     "data": {
      "image/png": "[encoded data removed]",
      "text/plain": [
       "<Figure size 800x550 with 2 Axes>"
      ]
     },
     "metadata": {},
     "output_type": "display_data"
    },
    {
     "name": "stdout",
     "output_type": "stream",
     "text": [
      "              precision    recall  f1-score   support\n",
      "\n",
      "           0       0.56      0.13      0.21       317\n",
      "           1       0.50      0.14      0.22        64\n",
      "           2       0.00      0.00      0.00        40\n",
      "           3       1.00      0.01      0.02        90\n",
      "           4       1.00      0.02      0.03       315\n",
      "           5       0.77      0.99      0.87      2583\n",
      "\n",
      "    accuracy                           0.77      3409\n",
      "   macro avg       0.64      0.22      0.23      3409\n",
      "weighted avg       0.77      0.77      0.69      3409\n",
      "\n"
     ]
    },
    {
     "name": "stderr",
     "output_type": "stream",
     "text": [
      "/opt/conda/lib/python3.10/site-packages/sklearn/metrics/_classification.py:1344: UndefinedMetricWarning: Precision and F-score are ill-defined and being set to 0.0 in labels with no predicted samples. Use `zero_division` parameter to control this behavior.\n",
      "  _warn_prf(average, modifier, msg_start, len(result))\n",
      "/opt/conda/lib/python3.10/site-packages/sklearn/metrics/_classification.py:1344: UndefinedMetricWarning: Precision and F-score are ill-defined and being set to 0.0 in labels with no predicted samples. Use `zero_division` parameter to control this behavior.\n",
      "  _warn_prf(average, modifier, msg_start, len(result))\n",
      "/opt/conda/lib/python3.10/site-packages/sklearn/metrics/_classification.py:1344: UndefinedMetricWarning: Precision and F-score are ill-defined and being set to 0.0 in labels with no predicted samples. Use `zero_division` parameter to control this behavior.\n",
      "  _warn_prf(average, modifier, msg_start, len(result))\n"
     ]
    }
   ],
   "source": [
    "knn=KNeighborsClassifier(n_neighbors=30,weights='distance')\n",
    "knn.fit(x_train,y_train)\n",
    "\n",
    "# Make predictions on the testing data\n",
    "y_pred = knn.predict(x_test)\n",
    "\n",
    "# Evaluate the model\n",
    "from sklearn.metrics import accuracy_score, confusion_matrix, classification_report, ConfusionMatrixDisplay\n",
    "\n",
    "accuracy = accuracy_score(y_test, y_pred)\n",
    "print(\"Accuracy:\", accuracy)\n",
    "\n",
    "import seaborn as sns\n",
    "import matplotlib.pyplot as plt\n",
    "cf_matrix = confusion_matrix(y_test, knn.predict(x_test))\n",
    "sns.heatmap(cf_matrix, annot=True, fmt='.4g', cmap='Reds')\n",
    "plt.show()\n",
    "print(classification_report(y_test,knn.predict(x_test)))"
   ]
  },
  {
   "cell_type": "markdown",
   "id": "9540d3f1",
   "metadata": {
    "_cell_guid": "67a236b3-acea-4e10-a3dd-b6cc60f8ae43",
    "_uuid": "048a6170-ad32-48cc-827c-0fc454c4fd3c",
    "papermill": {
     "duration": 0.02766,
     "end_time": "2024-04-29T10:47:25.858456",
     "exception": false,
     "start_time": "2024-04-29T10:47:25.830796",
     "status": "completed"
    },
    "tags": []
   },
   "source": [
    "# Model fitting: linear SVC"
   ]
  },
  {
   "cell_type": "code",
   "execution_count": 38,
   "id": "705c76c9",
   "metadata": {
    "execution": {
     "iopub.execute_input": "2024-04-29T10:47:25.913333Z",
     "iopub.status.busy": "2024-04-29T10:47:25.912953Z",
     "iopub.status.idle": "2024-04-29T10:56:23.407587Z",
     "shell.execute_reply": "2024-04-29T10:56:23.406589Z"
    },
    "papermill": {
     "duration": 537.552123,
     "end_time": "2024-04-29T10:56:23.437102",
     "exception": false,
     "start_time": "2024-04-29T10:47:25.884979",
     "status": "completed"
    },
    "tags": []
   },
   "outputs": [
    {
     "name": "stdout",
     "output_type": "stream",
     "text": [
      "Fitting 3 folds for each of 9 candidates, totalling 27 fits\n",
      "[CV 1/3] END .................C=0.1, penalty=l2;, score=0.772 total time=   7.4s\n",
      "[CV 2/3] END .................C=0.1, penalty=l2;, score=0.768 total time=   9.0s\n",
      "[CV 3/3] END .................C=0.1, penalty=l2;, score=0.766 total time=   8.8s\n",
      "[CV 1/3] END .................C=0.2, penalty=l2;, score=0.777 total time=  11.8s\n",
      "[CV 2/3] END .................C=0.2, penalty=l2;, score=0.771 total time=  13.8s\n",
      "[CV 3/3] END .................C=0.2, penalty=l2;, score=0.769 total time=  11.8s\n",
      "[CV 1/3] END .................C=0.3, penalty=l2;, score=0.778 total time=  15.4s\n",
      "[CV 2/3] END .................C=0.3, penalty=l2;, score=0.771 total time=  16.6s\n",
      "[CV 3/3] END .................C=0.3, penalty=l2;, score=0.774 total time=  14.3s\n",
      "[CV 1/3] END .................C=0.4, penalty=l2;, score=0.777 total time=  18.5s\n",
      "[CV 2/3] END .................C=0.4, penalty=l2;, score=0.774 total time=  20.9s\n",
      "[CV 3/3] END .................C=0.4, penalty=l2;, score=0.777 total time=  18.5s\n",
      "[CV 1/3] END .................C=0.5, penalty=l2;, score=0.777 total time=  19.7s\n",
      "[CV 2/3] END .................C=0.5, penalty=l2;, score=0.774 total time=  21.6s\n",
      "[CV 3/3] END .................C=0.5, penalty=l2;, score=0.775 total time=  21.7s\n",
      "[CV 1/3] END .................C=0.6, penalty=l2;, score=0.776 total time=  22.5s\n",
      "[CV 2/3] END .................C=0.6, penalty=l2;, score=0.772 total time=  20.1s\n",
      "[CV 3/3] END .................C=0.6, penalty=l2;, score=0.773 total time=  23.4s\n",
      "[CV 1/3] END .................C=0.7, penalty=l2;, score=0.775 total time=  25.3s\n",
      "[CV 2/3] END .................C=0.7, penalty=l2;, score=0.771 total time=  19.6s\n",
      "[CV 3/3] END .................C=0.7, penalty=l2;, score=0.771 total time=  19.9s\n",
      "[CV 1/3] END .................C=0.8, penalty=l2;, score=0.773 total time=  23.1s\n",
      "[CV 2/3] END .................C=0.8, penalty=l2;, score=0.768 total time=  28.0s\n",
      "[CV 3/3] END .................C=0.8, penalty=l2;, score=0.770 total time=  24.3s\n",
      "[CV 1/3] END .................C=0.9, penalty=l2;, score=0.770 total time=  23.6s\n",
      "[CV 2/3] END .................C=0.9, penalty=l2;, score=0.766 total time=  21.9s\n",
      "[CV 3/3] END .................C=0.9, penalty=l2;, score=0.769 total time=  23.3s\n"
     ]
    },
    {
     "data": {
      "text/html": [
       "<style>#sk-container-id-3 {color: black;background-color: white;}#sk-container-id-3 pre{padding: 0;}#sk-container-id-3 div.sk-toggleable {background-color: white;}#sk-container-id-3 label.sk-toggleable__label {cursor: pointer;display: block;width: 100%;margin-bottom: 0;padding: 0.3em;box-sizing: border-box;text-align: center;}#sk-container-id-3 label.sk-toggleable__label-arrow:before {content: \"▸\";float: left;margin-right: 0.25em;color: #696969;}#sk-container-id-3 label.sk-toggleable__label-arrow:hover:before {color: black;}#sk-container-id-3 div.sk-estimator:hover label.sk-toggleable__label-arrow:before {color: black;}#sk-container-id-3 div.sk-toggleable__content {max-height: 0;max-width: 0;overflow: hidden;text-align: left;background-color: #f0f8ff;}#sk-container-id-3 div.sk-toggleable__content pre {margin: 0.2em;color: black;border-radius: 0.25em;background-color: #f0f8ff;}#sk-container-id-3 input.sk-toggleable__control:checked~div.sk-toggleable__content {max-height: 200px;max-width: 100%;overflow: auto;}#sk-container-id-3 input.sk-toggleable__control:checked~label.sk-toggleable__label-arrow:before {content: \"▾\";}#sk-container-id-3 div.sk-estimator input.sk-toggleable__control:checked~label.sk-toggleable__label {background-color: #d4ebff;}#sk-container-id-3 div.sk-label input.sk-toggleable__control:checked~label.sk-toggleable__label {background-color: #d4ebff;}#sk-container-id-3 input.sk-hidden--visually {border: 0;clip: rect(1px 1px 1px 1px);clip: rect(1px, 1px, 1px, 1px);height: 1px;margin: -1px;overflow: hidden;padding: 0;position: absolute;width: 1px;}#sk-container-id-3 div.sk-estimator {font-family: monospace;background-color: #f0f8ff;border: 1px dotted black;border-radius: 0.25em;box-sizing: border-box;margin-bottom: 0.5em;}#sk-container-id-3 div.sk-estimator:hover {background-color: #d4ebff;}#sk-container-id-3 div.sk-parallel-item::after {content: \"\";width: 100%;border-bottom: 1px solid gray;flex-grow: 1;}#sk-container-id-3 div.sk-label:hover label.sk-toggleable__label {background-color: #d4ebff;}#sk-container-id-3 div.sk-serial::before {content: \"\";position: absolute;border-left: 1px solid gray;box-sizing: border-box;top: 0;bottom: 0;left: 50%;z-index: 0;}#sk-container-id-3 div.sk-serial {display: flex;flex-direction: column;align-items: center;background-color: white;padding-right: 0.2em;padding-left: 0.2em;position: relative;}#sk-container-id-3 div.sk-item {position: relative;z-index: 1;}#sk-container-id-3 div.sk-parallel {display: flex;align-items: stretch;justify-content: center;background-color: white;position: relative;}#sk-container-id-3 div.sk-item::before, #sk-container-id-3 div.sk-parallel-item::before {content: \"\";position: absolute;border-left: 1px solid gray;box-sizing: border-box;top: 0;bottom: 0;left: 50%;z-index: -1;}#sk-container-id-3 div.sk-parallel-item {display: flex;flex-direction: column;z-index: 1;position: relative;background-color: white;}#sk-container-id-3 div.sk-parallel-item:first-child::after {align-self: flex-end;width: 50%;}#sk-container-id-3 div.sk-parallel-item:last-child::after {align-self: flex-start;width: 50%;}#sk-container-id-3 div.sk-parallel-item:only-child::after {width: 0;}#sk-container-id-3 div.sk-dashed-wrapped {border: 1px dashed gray;margin: 0 0.4em 0.5em 0.4em;box-sizing: border-box;padding-bottom: 0.4em;background-color: white;}#sk-container-id-3 div.sk-label label {font-family: monospace;font-weight: bold;display: inline-block;line-height: 1.2em;}#sk-container-id-3 div.sk-label-container {text-align: center;}#sk-container-id-3 div.sk-container {/* jupyter's `normalize.less` sets `[hidden] { display: none; }` but bootstrap.min.css set `[hidden] { display: none !important; }` so we also need the `!important` here to be able to override the default hidden behavior on the sphinx rendered scikit-learn.org. See: https://github.com/scikit-learn/scikit-learn/issues/21755 */display: inline-block !important;position: relative;}#sk-container-id-3 div.sk-text-repr-fallback {display: none;}</style><div id=\"sk-container-id-3\" class=\"sk-top-container\"><div class=\"sk-text-repr-fallback\"><pre>GridSearchCV(cv=3, estimator=LinearSVC(max_iter=30000),\n",
       "             param_grid={&#x27;C&#x27;: [0.1, 0.2, 0.3, 0.4, 0.5, 0.6, 0.7, 0.8, 0.9],\n",
       "                         &#x27;penalty&#x27;: [&#x27;l2&#x27;]},\n",
       "             verbose=3)</pre><b>In a Jupyter environment, please rerun this cell to show the HTML representation or trust the notebook. <br />On GitHub, the HTML representation is unable to render, please try loading this page with nbviewer.org.</b></div><div class=\"sk-container\" hidden><div class=\"sk-item sk-dashed-wrapped\"><div class=\"sk-label-container\"><div class=\"sk-label sk-toggleable\"><input class=\"sk-toggleable__control sk-hidden--visually\" id=\"sk-estimator-id-7\" type=\"checkbox\" ><label for=\"sk-estimator-id-7\" class=\"sk-toggleable__label sk-toggleable__label-arrow\">GridSearchCV</label><div class=\"sk-toggleable__content\"><pre>GridSearchCV(cv=3, estimator=LinearSVC(max_iter=30000),\n",
       "             param_grid={&#x27;C&#x27;: [0.1, 0.2, 0.3, 0.4, 0.5, 0.6, 0.7, 0.8, 0.9],\n",
       "                         &#x27;penalty&#x27;: [&#x27;l2&#x27;]},\n",
       "             verbose=3)</pre></div></div></div><div class=\"sk-parallel\"><div class=\"sk-parallel-item\"><div class=\"sk-item\"><div class=\"sk-label-container\"><div class=\"sk-label sk-toggleable\"><input class=\"sk-toggleable__control sk-hidden--visually\" id=\"sk-estimator-id-8\" type=\"checkbox\" ><label for=\"sk-estimator-id-8\" class=\"sk-toggleable__label sk-toggleable__label-arrow\">estimator: LinearSVC</label><div class=\"sk-toggleable__content\"><pre>LinearSVC(max_iter=30000)</pre></div></div></div><div class=\"sk-serial\"><div class=\"sk-item\"><div class=\"sk-estimator sk-toggleable\"><input class=\"sk-toggleable__control sk-hidden--visually\" id=\"sk-estimator-id-9\" type=\"checkbox\" ><label for=\"sk-estimator-id-9\" class=\"sk-toggleable__label sk-toggleable__label-arrow\">LinearSVC</label><div class=\"sk-toggleable__content\"><pre>LinearSVC(max_iter=30000)</pre></div></div></div></div></div></div></div></div></div></div>"
      ],
      "text/plain": [
       "GridSearchCV(cv=3, estimator=LinearSVC(max_iter=30000),\n",
       "             param_grid={'C': [0.1, 0.2, 0.3, 0.4, 0.5, 0.6, 0.7, 0.8, 0.9],\n",
       "                         'penalty': ['l2']},\n",
       "             verbose=3)"
      ]
     },
     "execution_count": 38,
     "metadata": {},
     "output_type": "execute_result"
    }
   ],
   "source": [
    "from sklearn.svm import LinearSVC\n",
    "svc=LinearSVC(max_iter=30000)\n",
    "from sklearn.model_selection import GridSearchCV\n",
    "params={'C':[0.1,0.2,0.3,0.4,0.5,0.6,0.7,0.8,0.9],\n",
    "        'penalty':['l2'],\n",
    "       }\n",
    "gsvc=GridSearchCV(svc,params,cv=3,verbose=3)\n",
    "gsvc.fit(x_train,y_train)"
   ]
  },
  {
   "cell_type": "code",
   "execution_count": 39,
   "id": "6614434a",
   "metadata": {
    "execution": {
     "iopub.execute_input": "2024-04-29T10:56:23.495739Z",
     "iopub.status.busy": "2024-04-29T10:56:23.495369Z",
     "iopub.status.idle": "2024-04-29T10:56:23.512151Z",
     "shell.execute_reply": "2024-04-29T10:56:23.511165Z"
    },
    "papermill": {
     "duration": 0.048734,
     "end_time": "2024-04-29T10:56:23.514197",
     "exception": false,
     "start_time": "2024-04-29T10:56:23.465463",
     "status": "completed"
    },
    "tags": []
   },
   "outputs": [
    {
     "data": {
      "text/html": [
       "<div>\n",
       "<style scoped>\n",
       "    .dataframe tbody tr th:only-of-type {\n",
       "        vertical-align: middle;\n",
       "    }\n",
       "\n",
       "    .dataframe tbody tr th {\n",
       "        vertical-align: top;\n",
       "    }\n",
       "\n",
       "    .dataframe thead th {\n",
       "        text-align: right;\n",
       "    }\n",
       "</style>\n",
       "<table border=\"1\" class=\"dataframe\">\n",
       "  <thead>\n",
       "    <tr style=\"text-align: right;\">\n",
       "      <th></th>\n",
       "      <th>mean_fit_time</th>\n",
       "      <th>mean_test_score</th>\n",
       "      <th>mean_train_score</th>\n",
       "      <th>rank_test_score</th>\n",
       "    </tr>\n",
       "    <tr>\n",
       "      <th>params</th>\n",
       "      <th></th>\n",
       "      <th></th>\n",
       "      <th></th>\n",
       "      <th></th>\n",
       "    </tr>\n",
       "  </thead>\n",
       "  <tbody>\n",
       "    <tr>\n",
       "      <th>{'C': 0.4, 'penalty': 'l2'}</th>\n",
       "      <td>19.296225</td>\n",
       "      <td>0.775985</td>\n",
       "      <td>NaN</td>\n",
       "      <td>1</td>\n",
       "    </tr>\n",
       "    <tr>\n",
       "      <th>{'C': 0.5, 'penalty': 'l2'}</th>\n",
       "      <td>21.003803</td>\n",
       "      <td>0.775203</td>\n",
       "      <td>NaN</td>\n",
       "      <td>2</td>\n",
       "    </tr>\n",
       "    <tr>\n",
       "      <th>{'C': 0.3, 'penalty': 'l2'}</th>\n",
       "      <td>15.465133</td>\n",
       "      <td>0.774421</td>\n",
       "      <td>NaN</td>\n",
       "      <td>3</td>\n",
       "    </tr>\n",
       "    <tr>\n",
       "      <th>{'C': 0.6, 'penalty': 'l2'}</th>\n",
       "      <td>21.973151</td>\n",
       "      <td>0.773834</td>\n",
       "      <td>NaN</td>\n",
       "      <td>4</td>\n",
       "    </tr>\n",
       "    <tr>\n",
       "      <th>{'C': 0.2, 'penalty': 'l2'}</th>\n",
       "      <td>12.431811</td>\n",
       "      <td>0.772563</td>\n",
       "      <td>NaN</td>\n",
       "      <td>5</td>\n",
       "    </tr>\n",
       "  </tbody>\n",
       "</table>\n",
       "</div>"
      ],
      "text/plain": [
       "                             mean_fit_time  mean_test_score mean_train_score  \\\n",
       "params                                                                         \n",
       "{'C': 0.4, 'penalty': 'l2'}      19.296225         0.775985              NaN   \n",
       "{'C': 0.5, 'penalty': 'l2'}      21.003803         0.775203              NaN   \n",
       "{'C': 0.3, 'penalty': 'l2'}      15.465133         0.774421              NaN   \n",
       "{'C': 0.6, 'penalty': 'l2'}      21.973151         0.773834              NaN   \n",
       "{'C': 0.2, 'penalty': 'l2'}      12.431811         0.772563              NaN   \n",
       "\n",
       "                             rank_test_score  \n",
       "params                                        \n",
       "{'C': 0.4, 'penalty': 'l2'}                1  \n",
       "{'C': 0.5, 'penalty': 'l2'}                2  \n",
       "{'C': 0.3, 'penalty': 'l2'}                3  \n",
       "{'C': 0.6, 'penalty': 'l2'}                4  \n",
       "{'C': 0.2, 'penalty': 'l2'}                5  "
      ]
     },
     "execution_count": 39,
     "metadata": {},
     "output_type": "execute_result"
    }
   ],
   "source": [
    "pd.DataFrame(gsvc.cv_results_, columns=['params','mean_fit_time','mean_test_score','mean_train_score','rank_test_score']).sort_values(by='rank_test_score').set_index('params').head()"
   ]
  },
  {
   "cell_type": "code",
   "execution_count": 40,
   "id": "aa798bbe",
   "metadata": {
    "execution": {
     "iopub.execute_input": "2024-04-29T10:56:23.573462Z",
     "iopub.status.busy": "2024-04-29T10:56:23.572559Z",
     "iopub.status.idle": "2024-04-29T10:56:23.578761Z",
     "shell.execute_reply": "2024-04-29T10:56:23.577884Z"
    },
    "papermill": {
     "duration": 0.037769,
     "end_time": "2024-04-29T10:56:23.580733",
     "exception": false,
     "start_time": "2024-04-29T10:56:23.542964",
     "status": "completed"
    },
    "tags": []
   },
   "outputs": [
    {
     "data": {
      "text/plain": [
       "{'C': 0.4, 'penalty': 'l2'}"
      ]
     },
     "execution_count": 40,
     "metadata": {},
     "output_type": "execute_result"
    }
   ],
   "source": [
    "svc=gsvc.best_params_\n",
    "svc"
   ]
  },
  {
   "cell_type": "code",
   "execution_count": 41,
   "id": "3d538554",
   "metadata": {
    "_cell_guid": "65e781da-6632-4252-9573-256e7290ca8e",
    "_uuid": "99541480-2d4e-40d7-b146-f4a875829210",
    "collapsed": false,
    "execution": {
     "iopub.execute_input": "2024-04-29T10:56:23.639936Z",
     "iopub.status.busy": "2024-04-29T10:56:23.638761Z",
     "iopub.status.idle": "2024-04-29T10:57:00.646882Z",
     "shell.execute_reply": "2024-04-29T10:57:00.645807Z"
    },
    "jupyter": {
     "outputs_hidden": false
    },
    "papermill": {
     "duration": 37.0584,
     "end_time": "2024-04-29T10:57:00.667600",
     "exception": false,
     "start_time": "2024-04-29T10:56:23.609200",
     "status": "completed"
    },
    "tags": []
   },
   "outputs": [
    {
     "data": {
      "image/png": "[encoded data removed]",
      "text/plain": [
       "<Figure size 800x550 with 2 Axes>"
      ]
     },
     "metadata": {},
     "output_type": "display_data"
    },
    {
     "name": "stdout",
     "output_type": "stream",
     "text": [
      "              precision    recall  f1-score   support\n",
      "\n",
      "           0       0.49      0.18      0.27       317\n",
      "           1       0.48      0.23      0.32        64\n",
      "           2       0.20      0.03      0.04        40\n",
      "           3       0.33      0.08      0.13        90\n",
      "           4       0.33      0.10      0.15       315\n",
      "           5       0.81      0.98      0.88      2583\n",
      "\n",
      "    accuracy                           0.77      3409\n",
      "   macro avg       0.44      0.27      0.30      3409\n",
      "weighted avg       0.71      0.77      0.72      3409\n",
      "\n"
     ]
    }
   ],
   "source": [
    "#giving score 0.7738 \n",
    "from sklearn.svm import LinearSVC\n",
    "\n",
    "\n",
    "svc = LinearSVC(C=0.4,penalty='l2', max_iter=100000)\n",
    "svc.fit(x_train, y_train)\n",
    "pred = svc.predict(x_test)\n",
    "\n",
    "from sklearn.metrics import accuracy_score, confusion_matrix, classification_report, ConfusionMatrixDisplay\n",
    "cf_matrix = confusion_matrix(y_test, pred)\n",
    "sns.heatmap(cf_matrix, annot=True, fmt='.4g', cmap='Reds')\n",
    "plt.show()\n",
    "print(classification_report(y_test,pred))"
   ]
  },
  {
   "cell_type": "code",
   "execution_count": 42,
   "id": "71608f1e",
   "metadata": {
    "_cell_guid": "92a62c18-06d9-44d5-bcd9-04e895f16200",
    "_uuid": "d6a43e88-7bd5-480f-a5b4-d6f905a7a8a5",
    "collapsed": false,
    "execution": {
     "iopub.execute_input": "2024-04-29T10:57:00.727706Z",
     "iopub.status.busy": "2024-04-29T10:57:00.727263Z",
     "iopub.status.idle": "2024-04-29T10:57:00.739936Z",
     "shell.execute_reply": "2024-04-29T10:57:00.739006Z"
    },
    "jupyter": {
     "outputs_hidden": false
    },
    "papermill": {
     "duration": 0.045348,
     "end_time": "2024-04-29T10:57:00.742203",
     "exception": false,
     "start_time": "2024-04-29T10:57:00.696855",
     "status": "completed"
    },
    "tags": []
   },
   "outputs": [
    {
     "data": {
      "text/plain": [
       "(0.8855969492519801, 0.7741273100616016)"
      ]
     },
     "execution_count": 42,
     "metadata": {},
     "output_type": "execute_result"
    }
   ],
   "source": [
    "svc.score(x_train,y_train),svc.score(x_test,y_test)"
   ]
  },
  {
   "cell_type": "markdown",
   "id": "bb5b18c0",
   "metadata": {
    "_cell_guid": "57f467c4-28cd-40ea-ba8a-5bbe501dfc42",
    "_uuid": "2d2c9655-313e-4e67-9949-3c763808583a",
    "papermill": {
     "duration": 0.028753,
     "end_time": "2024-04-29T10:57:00.800427",
     "exception": false,
     "start_time": "2024-04-29T10:57:00.771674",
     "status": "completed"
    },
    "tags": []
   },
   "source": [
    "# Model fitting XGBOOST"
   ]
  },
  {
   "cell_type": "code",
   "execution_count": 43,
   "id": "8446e7f4",
   "metadata": {
    "execution": {
     "iopub.execute_input": "2024-04-29T10:57:00.860410Z",
     "iopub.status.busy": "2024-04-29T10:57:00.860022Z",
     "iopub.status.idle": "2024-04-29T11:14:11.150311Z",
     "shell.execute_reply": "2024-04-29T11:14:11.149226Z"
    },
    "papermill": {
     "duration": 1030.353368,
     "end_time": "2024-04-29T11:14:11.182854",
     "exception": false,
     "start_time": "2024-04-29T10:57:00.829486",
     "status": "completed"
    },
    "tags": []
   },
   "outputs": [
    {
     "name": "stdout",
     "output_type": "stream",
     "text": [
      "Fitting 3 folds for each of 3 candidates, totalling 9 fits\n",
      "[CV 1/3] END ..max_depth=40;, score=(train=1.000, test=0.776) total time= 1.5min\n",
      "[CV 2/3] END ..max_depth=40;, score=(train=1.000, test=0.765) total time= 1.5min\n",
      "[CV 3/3] END ..max_depth=40;, score=(train=1.000, test=0.778) total time= 1.5min\n",
      "[CV 1/3] END ..max_depth=50;, score=(train=1.000, test=0.778) total time= 1.6min\n",
      "[CV 2/3] END ..max_depth=50;, score=(train=1.000, test=0.765) total time= 1.6min\n",
      "[CV 3/3] END ..max_depth=50;, score=(train=1.000, test=0.776) total time= 1.6min\n",
      "[CV 1/3] END ..max_depth=60;, score=(train=1.000, test=0.778) total time= 1.6min\n",
      "[CV 2/3] END ..max_depth=60;, score=(train=1.000, test=0.766) total time= 1.6min\n",
      "[CV 3/3] END ..max_depth=60;, score=(train=1.000, test=0.774) total time= 1.6min\n"
     ]
    },
    {
     "data": {
      "text/html": [
       "<style>#sk-container-id-4 {color: black;background-color: white;}#sk-container-id-4 pre{padding: 0;}#sk-container-id-4 div.sk-toggleable {background-color: white;}#sk-container-id-4 label.sk-toggleable__label {cursor: pointer;display: block;width: 100%;margin-bottom: 0;padding: 0.3em;box-sizing: border-box;text-align: center;}#sk-container-id-4 label.sk-toggleable__label-arrow:before {content: \"▸\";float: left;margin-right: 0.25em;color: #696969;}#sk-container-id-4 label.sk-toggleable__label-arrow:hover:before {color: black;}#sk-container-id-4 div.sk-estimator:hover label.sk-toggleable__label-arrow:before {color: black;}#sk-container-id-4 div.sk-toggleable__content {max-height: 0;max-width: 0;overflow: hidden;text-align: left;background-color: #f0f8ff;}#sk-container-id-4 div.sk-toggleable__content pre {margin: 0.2em;color: black;border-radius: 0.25em;background-color: #f0f8ff;}#sk-container-id-4 input.sk-toggleable__control:checked~div.sk-toggleable__content {max-height: 200px;max-width: 100%;overflow: auto;}#sk-container-id-4 input.sk-toggleable__control:checked~label.sk-toggleable__label-arrow:before {content: \"▾\";}#sk-container-id-4 div.sk-estimator input.sk-toggleable__control:checked~label.sk-toggleable__label {background-color: #d4ebff;}#sk-container-id-4 div.sk-label input.sk-toggleable__control:checked~label.sk-toggleable__label {background-color: #d4ebff;}#sk-container-id-4 input.sk-hidden--visually {border: 0;clip: rect(1px 1px 1px 1px);clip: rect(1px, 1px, 1px, 1px);height: 1px;margin: -1px;overflow: hidden;padding: 0;position: absolute;width: 1px;}#sk-container-id-4 div.sk-estimator {font-family: monospace;background-color: #f0f8ff;border: 1px dotted black;border-radius: 0.25em;box-sizing: border-box;margin-bottom: 0.5em;}#sk-container-id-4 div.sk-estimator:hover {background-color: #d4ebff;}#sk-container-id-4 div.sk-parallel-item::after {content: \"\";width: 100%;border-bottom: 1px solid gray;flex-grow: 1;}#sk-container-id-4 div.sk-label:hover label.sk-toggleable__label {background-color: #d4ebff;}#sk-container-id-4 div.sk-serial::before {content: \"\";position: absolute;border-left: 1px solid gray;box-sizing: border-box;top: 0;bottom: 0;left: 50%;z-index: 0;}#sk-container-id-4 div.sk-serial {display: flex;flex-direction: column;align-items: center;background-color: white;padding-right: 0.2em;padding-left: 0.2em;position: relative;}#sk-container-id-4 div.sk-item {position: relative;z-index: 1;}#sk-container-id-4 div.sk-parallel {display: flex;align-items: stretch;justify-content: center;background-color: white;position: relative;}#sk-container-id-4 div.sk-item::before, #sk-container-id-4 div.sk-parallel-item::before {content: \"\";position: absolute;border-left: 1px solid gray;box-sizing: border-box;top: 0;bottom: 0;left: 50%;z-index: -1;}#sk-container-id-4 div.sk-parallel-item {display: flex;flex-direction: column;z-index: 1;position: relative;background-color: white;}#sk-container-id-4 div.sk-parallel-item:first-child::after {align-self: flex-end;width: 50%;}#sk-container-id-4 div.sk-parallel-item:last-child::after {align-self: flex-start;width: 50%;}#sk-container-id-4 div.sk-parallel-item:only-child::after {width: 0;}#sk-container-id-4 div.sk-dashed-wrapped {border: 1px dashed gray;margin: 0 0.4em 0.5em 0.4em;box-sizing: border-box;padding-bottom: 0.4em;background-color: white;}#sk-container-id-4 div.sk-label label {font-family: monospace;font-weight: bold;display: inline-block;line-height: 1.2em;}#sk-container-id-4 div.sk-label-container {text-align: center;}#sk-container-id-4 div.sk-container {/* jupyter's `normalize.less` sets `[hidden] { display: none; }` but bootstrap.min.css set `[hidden] { display: none !important; }` so we also need the `!important` here to be able to override the default hidden behavior on the sphinx rendered scikit-learn.org. See: https://github.com/scikit-learn/scikit-learn/issues/21755 */display: inline-block !important;position: relative;}#sk-container-id-4 div.sk-text-repr-fallback {display: none;}</style><div id=\"sk-container-id-4\" class=\"sk-top-container\"><div class=\"sk-text-repr-fallback\"><pre>GridSearchCV(cv=3,\n",
       "             estimator=XGBClassifier(base_score=None, booster=None,\n",
       "                                     callbacks=None, colsample_bylevel=None,\n",
       "                                     colsample_bynode=None,\n",
       "                                     colsample_bytree=None, device=None,\n",
       "                                     early_stopping_rounds=None,\n",
       "                                     enable_categorical=False, eval_metric=None,\n",
       "                                     feature_types=None, gamma=None,\n",
       "                                     grow_policy=None, importance_type=None,\n",
       "                                     interaction_constraints=None,\n",
       "                                     learning_rate=None, max_bin=None,\n",
       "                                     max_cat_threshold=None,\n",
       "                                     max_cat_to_onehot=None,\n",
       "                                     max_delta_step=None, max_depth=None,\n",
       "                                     max_leaves=None, min_child_weight=None,\n",
       "                                     missing=nan, monotone_constraints=None,\n",
       "                                     multi_strategy=None, n_estimators=None,\n",
       "                                     n_jobs=None, num_parallel_tree=None,\n",
       "                                     random_state=None, ...),\n",
       "             param_grid={&#x27;max_depth&#x27;: [40, 50, 60]}, return_train_score=True,\n",
       "             verbose=3)</pre><b>In a Jupyter environment, please rerun this cell to show the HTML representation or trust the notebook. <br />On GitHub, the HTML representation is unable to render, please try loading this page with nbviewer.org.</b></div><div class=\"sk-container\" hidden><div class=\"sk-item sk-dashed-wrapped\"><div class=\"sk-label-container\"><div class=\"sk-label sk-toggleable\"><input class=\"sk-toggleable__control sk-hidden--visually\" id=\"sk-estimator-id-10\" type=\"checkbox\" ><label for=\"sk-estimator-id-10\" class=\"sk-toggleable__label sk-toggleable__label-arrow\">GridSearchCV</label><div class=\"sk-toggleable__content\"><pre>GridSearchCV(cv=3,\n",
       "             estimator=XGBClassifier(base_score=None, booster=None,\n",
       "                                     callbacks=None, colsample_bylevel=None,\n",
       "                                     colsample_bynode=None,\n",
       "                                     colsample_bytree=None, device=None,\n",
       "                                     early_stopping_rounds=None,\n",
       "                                     enable_categorical=False, eval_metric=None,\n",
       "                                     feature_types=None, gamma=None,\n",
       "                                     grow_policy=None, importance_type=None,\n",
       "                                     interaction_constraints=None,\n",
       "                                     learning_rate=None, max_bin=None,\n",
       "                                     max_cat_threshold=None,\n",
       "                                     max_cat_to_onehot=None,\n",
       "                                     max_delta_step=None, max_depth=None,\n",
       "                                     max_leaves=None, min_child_weight=None,\n",
       "                                     missing=nan, monotone_constraints=None,\n",
       "                                     multi_strategy=None, n_estimators=None,\n",
       "                                     n_jobs=None, num_parallel_tree=None,\n",
       "                                     random_state=None, ...),\n",
       "             param_grid={&#x27;max_depth&#x27;: [40, 50, 60]}, return_train_score=True,\n",
       "             verbose=3)</pre></div></div></div><div class=\"sk-parallel\"><div class=\"sk-parallel-item\"><div class=\"sk-item\"><div class=\"sk-label-container\"><div class=\"sk-label sk-toggleable\"><input class=\"sk-toggleable__control sk-hidden--visually\" id=\"sk-estimator-id-11\" type=\"checkbox\" ><label for=\"sk-estimator-id-11\" class=\"sk-toggleable__label sk-toggleable__label-arrow\">estimator: XGBClassifier</label><div class=\"sk-toggleable__content\"><pre>XGBClassifier(base_score=None, booster=None, callbacks=None,\n",
       "              colsample_bylevel=None, colsample_bynode=None,\n",
       "              colsample_bytree=None, device=None, early_stopping_rounds=None,\n",
       "              enable_categorical=False, eval_metric=None, feature_types=None,\n",
       "              gamma=None, grow_policy=None, importance_type=None,\n",
       "              interaction_constraints=None, learning_rate=None, max_bin=None,\n",
       "              max_cat_threshold=None, max_cat_to_onehot=None,\n",
       "              max_delta_step=None, max_depth=None, max_leaves=None,\n",
       "              min_child_weight=None, missing=nan, monotone_constraints=None,\n",
       "              multi_strategy=None, n_estimators=None, n_jobs=None,\n",
       "              num_parallel_tree=None, random_state=None, ...)</pre></div></div></div><div class=\"sk-serial\"><div class=\"sk-item\"><div class=\"sk-estimator sk-toggleable\"><input class=\"sk-toggleable__control sk-hidden--visually\" id=\"sk-estimator-id-12\" type=\"checkbox\" ><label for=\"sk-estimator-id-12\" class=\"sk-toggleable__label sk-toggleable__label-arrow\">XGBClassifier</label><div class=\"sk-toggleable__content\"><pre>XGBClassifier(base_score=None, booster=None, callbacks=None,\n",
       "              colsample_bylevel=None, colsample_bynode=None,\n",
       "              colsample_bytree=None, device=None, early_stopping_rounds=None,\n",
       "              enable_categorical=False, eval_metric=None, feature_types=None,\n",
       "              gamma=None, grow_policy=None, importance_type=None,\n",
       "              interaction_constraints=None, learning_rate=None, max_bin=None,\n",
       "              max_cat_threshold=None, max_cat_to_onehot=None,\n",
       "              max_delta_step=None, max_depth=None, max_leaves=None,\n",
       "              min_child_weight=None, missing=nan, monotone_constraints=None,\n",
       "              multi_strategy=None, n_estimators=None, n_jobs=None,\n",
       "              num_parallel_tree=None, random_state=None, ...)</pre></div></div></div></div></div></div></div></div></div></div>"
      ],
      "text/plain": [
       "GridSearchCV(cv=3,\n",
       "             estimator=XGBClassifier(base_score=None, booster=None,\n",
       "                                     callbacks=None, colsample_bylevel=None,\n",
       "                                     colsample_bynode=None,\n",
       "                                     colsample_bytree=None, device=None,\n",
       "                                     early_stopping_rounds=None,\n",
       "                                     enable_categorical=False, eval_metric=None,\n",
       "                                     feature_types=None, gamma=None,\n",
       "                                     grow_policy=None, importance_type=None,\n",
       "                                     interaction_constraints=None,\n",
       "                                     learning_rate=None, max_bin=None,\n",
       "                                     max_cat_threshold=None,\n",
       "                                     max_cat_to_onehot=None,\n",
       "                                     max_delta_step=None, max_depth=None,\n",
       "                                     max_leaves=None, min_child_weight=None,\n",
       "                                     missing=nan, monotone_constraints=None,\n",
       "                                     multi_strategy=None, n_estimators=None,\n",
       "                                     n_jobs=None, num_parallel_tree=None,\n",
       "                                     random_state=None, ...),\n",
       "             param_grid={'max_depth': [40, 50, 60]}, return_train_score=True,\n",
       "             verbose=3)"
      ]
     },
     "execution_count": 43,
     "metadata": {},
     "output_type": "execute_result"
    }
   ],
   "source": [
    "from xgboost import XGBClassifier\n",
    "xgb=XGBClassifier()\n",
    "params={'max_depth':[40,50,60]}\n",
    "g_xgb=GridSearchCV(xgb,params,cv=3,verbose=3,return_train_score=True)\n",
    "g_xgb.fit(x_train,y_train)\n"
   ]
  },
  {
   "cell_type": "code",
   "execution_count": 44,
   "id": "a926b148",
   "metadata": {
    "execution": {
     "iopub.execute_input": "2024-04-29T11:14:11.246930Z",
     "iopub.status.busy": "2024-04-29T11:14:11.245891Z",
     "iopub.status.idle": "2024-04-29T11:14:11.262955Z",
     "shell.execute_reply": "2024-04-29T11:14:11.261953Z"
    },
    "papermill": {
     "duration": 0.051482,
     "end_time": "2024-04-29T11:14:11.265089",
     "exception": false,
     "start_time": "2024-04-29T11:14:11.213607",
     "status": "completed"
    },
    "tags": []
   },
   "outputs": [
    {
     "data": {
      "text/html": [
       "<div>\n",
       "<style scoped>\n",
       "    .dataframe tbody tr th:only-of-type {\n",
       "        vertical-align: middle;\n",
       "    }\n",
       "\n",
       "    .dataframe tbody tr th {\n",
       "        vertical-align: top;\n",
       "    }\n",
       "\n",
       "    .dataframe thead th {\n",
       "        text-align: right;\n",
       "    }\n",
       "</style>\n",
       "<table border=\"1\" class=\"dataframe\">\n",
       "  <thead>\n",
       "    <tr style=\"text-align: right;\">\n",
       "      <th></th>\n",
       "      <th>mean_fit_time</th>\n",
       "      <th>mean_test_score</th>\n",
       "      <th>mean_train_score</th>\n",
       "      <th>rank_test_score</th>\n",
       "    </tr>\n",
       "    <tr>\n",
       "      <th>params</th>\n",
       "      <th></th>\n",
       "      <th></th>\n",
       "      <th></th>\n",
       "      <th></th>\n",
       "    </tr>\n",
       "  </thead>\n",
       "  <tbody>\n",
       "    <tr>\n",
       "      <th>{'max_depth': 50}</th>\n",
       "      <td>95.797502</td>\n",
       "      <td>0.773052</td>\n",
       "      <td>0.999756</td>\n",
       "      <td>1</td>\n",
       "    </tr>\n",
       "    <tr>\n",
       "      <th>{'max_depth': 40}</th>\n",
       "      <td>91.699819</td>\n",
       "      <td>0.773052</td>\n",
       "      <td>0.999756</td>\n",
       "      <td>2</td>\n",
       "    </tr>\n",
       "    <tr>\n",
       "      <th>{'max_depth': 60}</th>\n",
       "      <td>96.940742</td>\n",
       "      <td>0.772465</td>\n",
       "      <td>0.999756</td>\n",
       "      <td>3</td>\n",
       "    </tr>\n",
       "  </tbody>\n",
       "</table>\n",
       "</div>"
      ],
      "text/plain": [
       "                   mean_fit_time  mean_test_score  mean_train_score  \\\n",
       "params                                                                \n",
       "{'max_depth': 50}      95.797502         0.773052          0.999756   \n",
       "{'max_depth': 40}      91.699819         0.773052          0.999756   \n",
       "{'max_depth': 60}      96.940742         0.772465          0.999756   \n",
       "\n",
       "                   rank_test_score  \n",
       "params                              \n",
       "{'max_depth': 50}                1  \n",
       "{'max_depth': 40}                2  \n",
       "{'max_depth': 60}                3  "
      ]
     },
     "execution_count": 44,
     "metadata": {},
     "output_type": "execute_result"
    }
   ],
   "source": [
    "pd.DataFrame(g_xgb.cv_results_, columns=['params','mean_fit_time','mean_test_score','mean_train_score','rank_test_score']).sort_values(by='rank_test_score').set_index('params').head()"
   ]
  },
  {
   "cell_type": "code",
   "execution_count": 45,
   "id": "bf5d216d",
   "metadata": {
    "execution": {
     "iopub.execute_input": "2024-04-29T11:14:11.328564Z",
     "iopub.status.busy": "2024-04-29T11:14:11.327795Z",
     "iopub.status.idle": "2024-04-29T11:14:11.334093Z",
     "shell.execute_reply": "2024-04-29T11:14:11.333203Z"
    },
    "papermill": {
     "duration": 0.040141,
     "end_time": "2024-04-29T11:14:11.336155",
     "exception": false,
     "start_time": "2024-04-29T11:14:11.296014",
     "status": "completed"
    },
    "tags": []
   },
   "outputs": [
    {
     "data": {
      "text/plain": [
       "{'max_depth': 50}"
      ]
     },
     "execution_count": 45,
     "metadata": {},
     "output_type": "execute_result"
    }
   ],
   "source": [
    "g_xgb.best_params_"
   ]
  },
  {
   "cell_type": "code",
   "execution_count": 46,
   "id": "a76671a2",
   "metadata": {
    "_cell_guid": "097d1669-fae9-4742-8ffc-94a06fec0068",
    "_uuid": "4ebbda3c-7bb0-4626-aa64-99b260f9d2c9",
    "collapsed": false,
    "execution": {
     "iopub.execute_input": "2024-04-29T11:14:11.400260Z",
     "iopub.status.busy": "2024-04-29T11:14:11.399580Z",
     "iopub.status.idle": "2024-04-29T11:17:01.968859Z",
     "shell.execute_reply": "2024-04-29T11:17:01.967870Z"
    },
    "jupyter": {
     "outputs_hidden": false
    },
    "papermill": {
     "duration": 170.625212,
     "end_time": "2024-04-29T11:17:01.992622",
     "exception": false,
     "start_time": "2024-04-29T11:14:11.367410",
     "status": "completed"
    },
    "tags": []
   },
   "outputs": [
    {
     "data": {
      "image/png": "[encoded data removed]",
      "text/plain": [
       "<Figure size 800x550 with 2 Axes>"
      ]
     },
     "metadata": {},
     "output_type": "display_data"
    },
    {
     "name": "stdout",
     "output_type": "stream",
     "text": [
      "              precision    recall  f1-score   support\n",
      "\n",
      "           0       0.44      0.18      0.26       317\n",
      "           1       0.48      0.19      0.27        64\n",
      "           2       0.17      0.05      0.08        40\n",
      "           3       0.25      0.06      0.09        90\n",
      "           4       0.36      0.10      0.15       315\n",
      "           5       0.80      0.97      0.88      2583\n",
      "\n",
      "    accuracy                           0.77      3409\n",
      "   macro avg       0.42      0.26      0.29      3409\n",
      "weighted avg       0.70      0.77      0.71      3409\n",
      "\n"
     ]
    }
   ],
   "source": [
    "#giving score 0.7717\n",
    "from xgboost import XGBClassifier\n",
    "xgb = XGBClassifier(max_depth=50, n_jobs = -1)\n",
    "xgb.fit(x_train, y_train)\n",
    "\n",
    "\n",
    "from sklearn.metrics import accuracy_score, confusion_matrix, classification_report, ConfusionMatrixDisplay\n",
    "pred=xgb.predict(x_test)\n",
    "cf_matrix = confusion_matrix(y_test, pred)\n",
    "sns.heatmap(cf_matrix, annot=True, fmt='.4g', cmap='Reds')\n",
    "plt.show()\n",
    "print(classification_report(y_test,pred))"
   ]
  },
  {
   "cell_type": "code",
   "execution_count": 47,
   "id": "290f5f60",
   "metadata": {
    "_cell_guid": "8165308a-9f3c-4fff-bc9f-e46d9b148c20",
    "_uuid": "7f2d3faf-b52f-4fb6-aa0f-012da0e90195",
    "collapsed": false,
    "execution": {
     "iopub.execute_input": "2024-04-29T11:17:02.057754Z",
     "iopub.status.busy": "2024-04-29T11:17:02.057353Z",
     "iopub.status.idle": "2024-04-29T11:17:02.066004Z",
     "shell.execute_reply": "2024-04-29T11:17:02.065013Z"
    },
    "jupyter": {
     "outputs_hidden": false
    },
    "papermill": {
     "duration": 0.044021,
     "end_time": "2024-04-29T11:17:02.068104",
     "exception": false,
     "start_time": "2024-04-29T11:17:02.024083",
     "status": "completed"
    },
    "tags": []
   },
   "outputs": [
    {
     "data": {
      "text/plain": [
       "0.7682604869463185"
      ]
     },
     "execution_count": 47,
     "metadata": {},
     "output_type": "execute_result"
    }
   ],
   "source": [
    "accuracy_score(y_test,pred)"
   ]
  },
  {
   "cell_type": "markdown",
   "id": "ed7295ec",
   "metadata": {
    "_cell_guid": "4d7077cc-553c-4db7-9b97-765153acae24",
    "_uuid": "bb37c17a-df83-4f88-b919-dec5a57367bd",
    "papermill": {
     "duration": 0.03095,
     "end_time": "2024-04-29T11:17:02.130541",
     "exception": false,
     "start_time": "2024-04-29T11:17:02.099591",
     "status": "completed"
    },
    "tags": []
   },
   "source": []
  },
  {
   "cell_type": "code",
   "execution_count": null,
   "id": "3a9e2ad1",
   "metadata": {
    "_cell_guid": "120d3692-aaf4-4acf-89de-c96ab5f69ce6",
    "_uuid": "86f5bbc4-2cab-4db5-8c6b-51613afc6fc5",
    "collapsed": false,
    "jupyter": {
     "outputs_hidden": false
    },
    "papermill": {
     "duration": 0.031163,
     "end_time": "2024-04-29T11:17:02.192937",
     "exception": false,
     "start_time": "2024-04-29T11:17:02.161774",
     "status": "completed"
    },
    "tags": []
   },
   "outputs": [],
   "source": []
  },
  {
   "cell_type": "code",
   "execution_count": 48,
   "id": "b98dbff1",
   "metadata": {
    "_cell_guid": "132277f5-9b31-4df6-ae20-e97d8679d768",
    "_uuid": "1a5889c6-3397-42ab-8848-c74051185fea",
    "collapsed": false,
    "execution": {
     "iopub.execute_input": "2024-04-29T11:17:02.257571Z",
     "iopub.status.busy": "2024-04-29T11:17:02.257003Z",
     "iopub.status.idle": "2024-04-29T11:17:02.264259Z",
     "shell.execute_reply": "2024-04-29T11:17:02.263209Z"
    },
    "jupyter": {
     "outputs_hidden": false
    },
    "papermill": {
     "duration": 0.042182,
     "end_time": "2024-04-29T11:17:02.266645",
     "exception": false,
     "start_time": "2024-04-29T11:17:02.224463",
     "status": "completed"
    },
    "tags": []
   },
   "outputs": [
    {
     "data": {
      "text/plain": [
       "\"%%time\\nfrom sklearn.model_selection import RandomizedSearchCV as RSCV\\nfrom sklearn.ensemble import RandomForestClassifier\\nparam_grid = {'n_estimators':np.arange(50,200,15),\\n              'max_features':np.arange(0.1, 1, 0.1),\\n              'max_depth': [3, 5, 7, 9],\\n              'max_samples': [0.3, 0.5, 0.8]}\\n\\nmodel = RSCV(RandomForestClassifier(), param_grid, verbose=3)\\nmodel.fit(X_train, y_train)\\nmodel = model.best_estimator_\""
      ]
     },
     "execution_count": 48,
     "metadata": {},
     "output_type": "execute_result"
    }
   ],
   "source": [
    "'''%%time\n",
    "from sklearn.model_selection import RandomizedSearchCV as RSCV\n",
    "from sklearn.ensemble import RandomForestClassifier\n",
    "param_grid = {'n_estimators':np.arange(50,200,15),\n",
    "              'max_features':np.arange(0.1, 1, 0.1),\n",
    "              'max_depth': [3, 5, 7, 9],\n",
    "              'max_samples': [0.3, 0.5, 0.8]}\n",
    "\n",
    "model = RSCV(RandomForestClassifier(), param_grid, verbose=3)\n",
    "model.fit(X_train, y_train)\n",
    "model = model.best_estimator_'''"
   ]
  },
  {
   "cell_type": "markdown",
   "id": "e9f376d5",
   "metadata": {
    "_cell_guid": "3de85c49-cacc-4254-b39a-d1daf61dcbe4",
    "_uuid": "513d8ce5-2cea-468e-b41a-fe2360dc9905",
    "papermill": {
     "duration": 0.031288,
     "end_time": "2024-04-29T11:17:02.329714",
     "exception": false,
     "start_time": "2024-04-29T11:17:02.298426",
     "status": "completed"
    },
    "tags": []
   },
   "source": [
    "# Fiting model RandomForest by reducing the dimesion of X by using PCA"
   ]
  },
  {
   "cell_type": "code",
   "execution_count": 49,
   "id": "f4af0209",
   "metadata": {
    "_cell_guid": "fb7a6828-4479-4365-a1b3-4b9eed47b3f7",
    "_uuid": "542f0ef8-b8bd-4985-abba-64c6ed7b4f43",
    "collapsed": false,
    "execution": {
     "iopub.execute_input": "2024-04-29T11:17:02.396054Z",
     "iopub.status.busy": "2024-04-29T11:17:02.395629Z",
     "iopub.status.idle": "2024-04-29T11:17:02.402323Z",
     "shell.execute_reply": "2024-04-29T11:17:02.401316Z"
    },
    "jupyter": {
     "outputs_hidden": false
    },
    "papermill": {
     "duration": 0.042491,
     "end_time": "2024-04-29T11:17:02.404485",
     "exception": false,
     "start_time": "2024-04-29T11:17:02.361994",
     "status": "completed"
    },
    "tags": []
   },
   "outputs": [
    {
     "data": {
      "text/plain": [
       "'from sklearn.preprocessing import normalize\\n\\ntfidf_matrix =(normalize(tf_Review.toarray()))\\ntfidf_test_matrix =(normalize(tf_test_Review.toarray()))\\n\\nRName =(normalize(tf_RName.toarray()))\\ntest_RName =(normalize(tf_test_RName.toarray()))\\n\\nUName= (normalize(tf_UName.toarray()))\\ntest_UName=(normalize(tf_test_UName.toarray()))\\n\\nprint(tfidf_matrix.shape,RName.shape)'"
      ]
     },
     "execution_count": 49,
     "metadata": {},
     "output_type": "execute_result"
    }
   ],
   "source": [
    "'''from sklearn.preprocessing import normalize\n",
    "\n",
    "tfidf_matrix =(normalize(tf_Review.toarray()))\n",
    "tfidf_test_matrix =(normalize(tf_test_Review.toarray()))\n",
    "\n",
    "RName =(normalize(tf_RName.toarray()))\n",
    "test_RName =(normalize(tf_test_RName.toarray()))\n",
    "\n",
    "UName= (normalize(tf_UName.toarray()))\n",
    "test_UName=(normalize(tf_test_UName.toarray()))\n",
    "\n",
    "print(tfidf_matrix.shape,RName.shape)'''"
   ]
  },
  {
   "cell_type": "code",
   "execution_count": 50,
   "id": "a66785c5",
   "metadata": {
    "_cell_guid": "00f64443-583a-4046-b1aa-2b6630d26ef7",
    "_uuid": "1036f8e8-3270-42fa-ba83-e189e22158e4",
    "collapsed": false,
    "execution": {
     "iopub.execute_input": "2024-04-29T11:17:02.470876Z",
     "iopub.status.busy": "2024-04-29T11:17:02.470501Z",
     "iopub.status.idle": "2024-04-29T11:17:02.477592Z",
     "shell.execute_reply": "2024-04-29T11:17:02.476597Z"
    },
    "jupyter": {
     "outputs_hidden": false
    },
    "papermill": {
     "duration": 0.043183,
     "end_time": "2024-04-29T11:17:02.479589",
     "exception": false,
     "start_time": "2024-04-29T11:17:02.436406",
     "status": "completed"
    },
    "tags": []
   },
   "outputs": [
    {
     "data": {
      "text/plain": [
       "\"\\nfrom sklearn.decomposition import PCA\\npca=PCA(n_components=50)\\n#on Recipe_Review\\npca_Review=pca.fit_transform(tfidf_matrix)\\ntest_pca_Review=pca.transform(tfidf_test_matrix)\\n\\n#on Recipename and username\\npca1=PCA(n_components=10)\\npca_RName=pca1.fit_transform(RName)\\ntest_pca_RName=pca1.transform(test_RName)\\n\\npca_UName=pca1.fit_transform(UName)\\ntest_pca_UName=pca1.transform(test_UName)\\n\\nX_pca=np.hstack([train_X,pca_Review,pca_RName,pca_UName])\\nX_test_pca=np.hstack([test_X,test_pca_Review,test_pca_RName,test_pca_UName])\\n\\n\\n#once again train_test_split\\nx_pca_train,x_pca_test,y_pca_train,y_pca_test=train_test_split(X_pca,y,random_state=20,test_size=0.2)\\n\\n#fitting to RandomForest\\nfrom sklearn.ensemble import RandomForestClassifier\\n\\nfrom sklearn.model_selection import RandomizedSearchCV as RSCV\\nfrom sklearn.ensemble import RandomForestClassifier\\nparam_grid = {'n_estimators':np.arange(50,200,15),\\n              'max_features':np.arange(0.5, 1, 0.1),\\n              'max_depth': [30,35,40,45],\\n              'max_samples': [0.3, 0.5, 0.8]}\\n\\nmodel = RSCV(RandomForestClassifier(), param_grid, verbose=3)\\nmodel.fit(x_pca_train,y_pca_train)\\n\\nmodel = model.best_estimator_\""
      ]
     },
     "execution_count": 50,
     "metadata": {},
     "output_type": "execute_result"
    }
   ],
   "source": [
    "#feature reduction using PCA\n",
    "'''\n",
    "from sklearn.decomposition import PCA\n",
    "pca=PCA(n_components=50)\n",
    "#on Recipe_Review\n",
    "pca_Review=pca.fit_transform(tfidf_matrix)\n",
    "test_pca_Review=pca.transform(tfidf_test_matrix)\n",
    "\n",
    "#on Recipename and username\n",
    "pca1=PCA(n_components=10)\n",
    "pca_RName=pca1.fit_transform(RName)\n",
    "test_pca_RName=pca1.transform(test_RName)\n",
    "\n",
    "pca_UName=pca1.fit_transform(UName)\n",
    "test_pca_UName=pca1.transform(test_UName)\n",
    "\n",
    "X_pca=np.hstack([train_X,pca_Review,pca_RName,pca_UName])\n",
    "X_test_pca=np.hstack([test_X,test_pca_Review,test_pca_RName,test_pca_UName])\n",
    "\n",
    "\n",
    "#once again train_test_split\n",
    "x_pca_train,x_pca_test,y_pca_train,y_pca_test=train_test_split(X_pca,y,random_state=20,test_size=0.2)\n",
    "\n",
    "#fitting to RandomForest\n",
    "from sklearn.ensemble import RandomForestClassifier\n",
    "\n",
    "from sklearn.model_selection import RandomizedSearchCV as RSCV\n",
    "from sklearn.ensemble import RandomForestClassifier\n",
    "param_grid = {'n_estimators':np.arange(50,200,15),\n",
    "              'max_features':np.arange(0.5, 1, 0.1),\n",
    "              'max_depth': [30,35,40,45],\n",
    "              'max_samples': [0.3, 0.5, 0.8]}\n",
    "\n",
    "model = RSCV(RandomForestClassifier(), param_grid, verbose=3)\n",
    "model.fit(x_pca_train,y_pca_train)\n",
    "\n",
    "model = model.best_estimator_'''"
   ]
  },
  {
   "cell_type": "code",
   "execution_count": 51,
   "id": "c3d71141",
   "metadata": {
    "_cell_guid": "785949c1-ccfc-4c6d-92e5-c3f3fa4ad8de",
    "_uuid": "337949e9-6c6f-4cf4-b791-4c4d96aade13",
    "collapsed": false,
    "execution": {
     "iopub.execute_input": "2024-04-29T11:17:02.545421Z",
     "iopub.status.busy": "2024-04-29T11:17:02.544380Z",
     "iopub.status.idle": "2024-04-29T11:17:02.550957Z",
     "shell.execute_reply": "2024-04-29T11:17:02.549975Z"
    },
    "jupyter": {
     "outputs_hidden": false
    },
    "papermill": {
     "duration": 0.041633,
     "end_time": "2024-04-29T11:17:02.553037",
     "exception": false,
     "start_time": "2024-04-29T11:17:02.511404",
     "status": "completed"
    },
    "tags": []
   },
   "outputs": [
    {
     "data": {
      "text/plain": [
       "'model'"
      ]
     },
     "execution_count": 51,
     "metadata": {},
     "output_type": "execute_result"
    }
   ],
   "source": [
    "'''model'''"
   ]
  },
  {
   "cell_type": "code",
   "execution_count": 52,
   "id": "3c45d4d2",
   "metadata": {
    "_cell_guid": "792f3f66-5d9a-4eca-9c80-21c819ccd5b9",
    "_uuid": "3be0f150-f6ed-475b-8e69-104fb13bf082",
    "collapsed": false,
    "execution": {
     "iopub.execute_input": "2024-04-29T11:17:02.621415Z",
     "iopub.status.busy": "2024-04-29T11:17:02.620391Z",
     "iopub.status.idle": "2024-04-29T11:17:02.627082Z",
     "shell.execute_reply": "2024-04-29T11:17:02.626082Z"
    },
    "jupyter": {
     "outputs_hidden": false
    },
    "papermill": {
     "duration": 0.043321,
     "end_time": "2024-04-29T11:17:02.629443",
     "exception": false,
     "start_time": "2024-04-29T11:17:02.586122",
     "status": "completed"
    },
    "tags": []
   },
   "outputs": [
    {
     "data": {
      "text/plain": [
       "'rf=RandomForestClassifier(max_depth=30, max_features=0.7, max_samples=0.8,n_estimators=155)\\nrf.fit(x_pca_train,y_pca_train)\\nrf.score(x_pca_test,y_pca_test)'"
      ]
     },
     "execution_count": 52,
     "metadata": {},
     "output_type": "execute_result"
    }
   ],
   "source": [
    "'''rf=RandomForestClassifier(max_depth=30, max_features=0.7, max_samples=0.8,n_estimators=155)\n",
    "rf.fit(x_pca_train,y_pca_train)\n",
    "rf.score(x_pca_test,y_pca_test)'''"
   ]
  },
  {
   "cell_type": "code",
   "execution_count": 53,
   "id": "83a90a65",
   "metadata": {
    "_cell_guid": "e18ed5a3-8dde-4fcd-9641-c6881d915181",
    "_uuid": "3ae99159-46d7-45bb-a368-4d0f39beb8ce",
    "collapsed": false,
    "execution": {
     "iopub.execute_input": "2024-04-29T11:17:02.696785Z",
     "iopub.status.busy": "2024-04-29T11:17:02.696015Z",
     "iopub.status.idle": "2024-04-29T11:17:02.702395Z",
     "shell.execute_reply": "2024-04-29T11:17:02.701427Z"
    },
    "jupyter": {
     "outputs_hidden": false
    },
    "papermill": {
     "duration": 0.042413,
     "end_time": "2024-04-29T11:17:02.704573",
     "exception": false,
     "start_time": "2024-04-29T11:17:02.662160",
     "status": "completed"
    },
    "tags": []
   },
   "outputs": [
    {
     "data": {
      "text/plain": [
       "\"#print(model.score(x_pca_test,y_pca_test),model.score(x_pca_train,y_pca_train))\\n\\nfrom sklearn.metrics import accuracy_score, confusion_matrix, classification_report, ConfusionMatrixDisplay\\nimport seaborn as sns\\nimport matplotlib.pyplot as plt\\ncf_matrix = confusion_matrix(y_pca_test, rf.predict(x_pca_test))\\nsns.heatmap(cf_matrix, annot=True, fmt='.4g', cmap='Reds')\\nplt.show()\\nprint(classification_report(y_pca_test,rf.predict(x_pca_test)))\""
      ]
     },
     "execution_count": 53,
     "metadata": {},
     "output_type": "execute_result"
    }
   ],
   "source": [
    "'''#print(model.score(x_pca_test,y_pca_test),model.score(x_pca_train,y_pca_train))\n",
    "\n",
    "from sklearn.metrics import accuracy_score, confusion_matrix, classification_report, ConfusionMatrixDisplay\n",
    "import seaborn as sns\n",
    "import matplotlib.pyplot as plt\n",
    "cf_matrix = confusion_matrix(y_pca_test, rf.predict(x_pca_test))\n",
    "sns.heatmap(cf_matrix, annot=True, fmt='.4g', cmap='Reds')\n",
    "plt.show()\n",
    "print(classification_report(y_pca_test,rf.predict(x_pca_test)))'''"
   ]
  },
  {
   "cell_type": "code",
   "execution_count": 54,
   "id": "1f2fdf3f",
   "metadata": {
    "_cell_guid": "0e5584e0-615e-4af6-bcca-2271806fc236",
    "_uuid": "2356fe0c-6280-423c-960f-b5ddb496f335",
    "collapsed": false,
    "execution": {
     "iopub.execute_input": "2024-04-29T11:17:02.771931Z",
     "iopub.status.busy": "2024-04-29T11:17:02.770955Z",
     "iopub.status.idle": "2024-04-29T11:17:02.777884Z",
     "shell.execute_reply": "2024-04-29T11:17:02.777006Z"
    },
    "jupyter": {
     "outputs_hidden": false
    },
    "papermill": {
     "duration": 0.043003,
     "end_time": "2024-04-29T11:17:02.780076",
     "exception": false,
     "start_time": "2024-04-29T11:17:02.737073",
     "status": "completed"
    },
    "tags": []
   },
   "outputs": [
    {
     "data": {
      "text/plain": [
       "\"from sklearn.naive_bayes import MultinomialNB\\nfrom sklearn.model_selection import GridSearchCV\\n\\nbn=MultinomialNB()\\nparams={'alpha':[1,0.5,1.5,2]}\\ngr=GridSearchCV(bn,params,cv=3,verbose=3)\\ngr.fit(x_train,y_train)\\nbn=gr\\nbn.fit(x_train,y_train)\\nbn.score(x_test,y_test)\\n\\nfrom sklearn.metrics import accuracy_score, confusion_matrix, classification_report, ConfusionMatrixDisplay\\ny_pred=bn.predict(x_test)\\ncf_matrix = confusion_matrix(y_test, y_pred)\\nsns.heatmap(cf_matrix, annot=True, fmt='.4g', cmap='Reds')\\nplt.show()\\nprint(classification_report(y_test,y_pred))\""
      ]
     },
     "execution_count": 54,
     "metadata": {},
     "output_type": "execute_result"
    }
   ],
   "source": [
    "'''from sklearn.naive_bayes import MultinomialNB\n",
    "from sklearn.model_selection import GridSearchCV\n",
    "\n",
    "bn=MultinomialNB()\n",
    "params={'alpha':[1,0.5,1.5,2]}\n",
    "gr=GridSearchCV(bn,params,cv=3,verbose=3)\n",
    "gr.fit(x_train,y_train)\n",
    "bn=gr\n",
    "bn.fit(x_train,y_train)\n",
    "bn.score(x_test,y_test)\n",
    "\n",
    "from sklearn.metrics import accuracy_score, confusion_matrix, classification_report, ConfusionMatrixDisplay\n",
    "y_pred=bn.predict(x_test)\n",
    "cf_matrix = confusion_matrix(y_test, y_pred)\n",
    "sns.heatmap(cf_matrix, annot=True, fmt='.4g', cmap='Reds')\n",
    "plt.show()\n",
    "print(classification_report(y_test,y_pred))'''"
   ]
  },
  {
   "cell_type": "markdown",
   "id": "500542f9",
   "metadata": {
    "_cell_guid": "b8037770-c98c-4e07-9a3a-7a8fc582c9f2",
    "_uuid": "a41a7568-80d3-422f-b4b4-79d6a0e1f525",
    "papermill": {
     "duration": 0.032072,
     "end_time": "2024-04-29T11:17:02.844723",
     "exception": false,
     "start_time": "2024-04-29T11:17:02.812651",
     "status": "completed"
    },
    "tags": []
   },
   "source": [
    "# Finally doing with stacking classifier using models LinearSVC and KNeighboursClassifier and meta-estimator LogisticRegressor"
   ]
  },
  {
   "cell_type": "code",
   "execution_count": 55,
   "id": "fdf58427",
   "metadata": {
    "_cell_guid": "3c4a2ee3-a72c-47ad-8a5c-aea40d6c99d8",
    "_uuid": "c92b4256-81e6-4f6a-ba24-1bd582482a08",
    "collapsed": false,
    "execution": {
     "iopub.execute_input": "2024-04-29T11:17:02.911216Z",
     "iopub.status.busy": "2024-04-29T11:17:02.910839Z",
     "iopub.status.idle": "2024-04-29T11:32:56.708997Z",
     "shell.execute_reply": "2024-04-29T11:32:56.707864Z"
    },
    "jupyter": {
     "outputs_hidden": false
    },
    "papermill": {
     "duration": 953.834257,
     "end_time": "2024-04-29T11:32:56.711521",
     "exception": false,
     "start_time": "2024-04-29T11:17:02.877264",
     "status": "completed"
    },
    "tags": []
   },
   "outputs": [
    {
     "name": "stderr",
     "output_type": "stream",
     "text": [
      "/opt/conda/lib/python3.10/site-packages/sklearn/svm/_base.py:1244: ConvergenceWarning: Liblinear failed to converge, increase the number of iterations.\n",
      "  warnings.warn(\n"
     ]
    },
    {
     "name": "stdout",
     "output_type": "stream",
     "text": [
      "Training Accuracy: 0.9786838760144715\n",
      "Test Accuracy: 0.7829275447345263\n"
     ]
    }
   ],
   "source": [
    "#time=978sec\n",
    "from sklearn.ensemble import StackingClassifier\n",
    "from sklearn.svm import LinearSVC\n",
    "from sklearn.neighbors import KNeighborsClassifier\n",
    "from sklearn.ensemble import RandomForestClassifier\n",
    "from sklearn.linear_model import LogisticRegression\n",
    "\n",
    "# Initialize the base estimators\n",
    "svc = LinearSVC(C=0.4, penalty='l2', max_iter=10000)\n",
    "xgb = XGBClassifier(max_depth=50)\n",
    "\n",
    "# Create the stacking classifier\n",
    "stacking_clf = StackingClassifier(\n",
    "    estimators=[('svc', svc), ('xgb',xgb)],\n",
    "    final_estimator=LogisticRegression(max_iter=10000)\n",
    ")\n",
    "\n",
    "# Fit the stacking classifier on the training data\n",
    "stacking_clf.fit(x_train, y_train)\n",
    "\n",
    "# Evaluate the stacking classifier\n",
    "print(\"Training Accuracy:\", stacking_clf.score(x_train, y_train))\n",
    "print(\"Test Accuracy:\", stacking_clf.score(x_test, y_test))\n",
    "\n",
    "#train-accuracy=0.9787\n",
    "#test-accuracy 0.7829"
   ]
  },
  {
   "cell_type": "markdown",
   "id": "f422120c",
   "metadata": {
    "_cell_guid": "15cababe-36e2-410c-b0a8-f0371d48fb0c",
    "_uuid": "374294b6-7eaf-4718-b8e0-2c4cefb2417d",
    "papermill": {
     "duration": 0.032064,
     "end_time": "2024-04-29T11:32:56.775996",
     "exception": false,
     "start_time": "2024-04-29T11:32:56.743932",
     "status": "completed"
    },
    "tags": []
   },
   "source": [
    "# before predicting, once again fit your model on whole datatset available for training"
   ]
  },
  {
   "cell_type": "code",
   "execution_count": 56,
   "id": "99e20ca5",
   "metadata": {
    "execution": {
     "iopub.execute_input": "2024-04-29T11:32:56.843025Z",
     "iopub.status.busy": "2024-04-29T11:32:56.842167Z",
     "iopub.status.idle": "2024-04-29T11:32:58.481355Z",
     "shell.execute_reply": "2024-04-29T11:32:58.480298Z"
    },
    "papermill": {
     "duration": 1.675553,
     "end_time": "2024-04-29T11:32:58.484053",
     "exception": false,
     "start_time": "2024-04-29T11:32:56.808500",
     "status": "completed"
    },
    "tags": []
   },
   "outputs": [
    {
     "name": "stderr",
     "output_type": "stream",
     "text": [
      "/opt/conda/lib/python3.10/site-packages/sklearn/feature_extraction/text.py:528: UserWarning: The parameter 'token_pattern' will not be used since 'tokenizer' is not None'\n",
      "  warnings.warn(\n"
     ]
    }
   ],
   "source": [
    "df1=pipeline.fit_transform(df1)\n",
    "df2=pipeline.transform(df2)"
   ]
  },
  {
   "cell_type": "code",
   "execution_count": 57,
   "id": "f3c93b06",
   "metadata": {
    "execution": {
     "iopub.execute_input": "2024-04-29T11:32:58.553380Z",
     "iopub.status.busy": "2024-04-29T11:32:58.552338Z",
     "iopub.status.idle": "2024-04-29T11:32:58.558609Z",
     "shell.execute_reply": "2024-04-29T11:32:58.557475Z"
    },
    "papermill": {
     "duration": 0.04316,
     "end_time": "2024-04-29T11:32:58.560976",
     "exception": false,
     "start_time": "2024-04-29T11:32:58.517816",
     "status": "completed"
    },
    "tags": []
   },
   "outputs": [],
   "source": [
    "stacking_clf = StackingClassifier(\n",
    "    estimators=[('svc', svc), ('xgb',xgb)],\n",
    "    final_estimator=LogisticRegression(solver='liblinear',max_iter=1000000)\n",
    ")\n"
   ]
  },
  {
   "cell_type": "code",
   "execution_count": 58,
   "id": "e07c566d",
   "metadata": {
    "_cell_guid": "49ea733a-168f-4dac-8430-3e18847012cd",
    "_uuid": "e6075525-c73c-4c5a-94a8-58d1782f1865",
    "collapsed": false,
    "execution": {
     "iopub.execute_input": "2024-04-29T11:32:58.628449Z",
     "iopub.status.busy": "2024-04-29T11:32:58.628046Z",
     "iopub.status.idle": "2024-04-29T11:58:04.080237Z",
     "shell.execute_reply": "2024-04-29T11:58:04.079073Z"
    },
    "jupyter": {
     "outputs_hidden": false
    },
    "papermill": {
     "duration": 1505.523611,
     "end_time": "2024-04-29T11:58:04.117614",
     "exception": false,
     "start_time": "2024-04-29T11:32:58.594003",
     "status": "completed"
    },
    "tags": []
   },
   "outputs": [
    {
     "name": "stderr",
     "output_type": "stream",
     "text": [
      "/opt/conda/lib/python3.10/site-packages/sklearn/svm/_base.py:1244: ConvergenceWarning: Liblinear failed to converge, increase the number of iterations.\n",
      "  warnings.warn(\n",
      "/opt/conda/lib/python3.10/site-packages/sklearn/svm/_base.py:1244: ConvergenceWarning: Liblinear failed to converge, increase the number of iterations.\n",
      "  warnings.warn(\n",
      "/opt/conda/lib/python3.10/site-packages/sklearn/svm/_base.py:1244: ConvergenceWarning: Liblinear failed to converge, increase the number of iterations.\n",
      "  warnings.warn(\n",
      "/opt/conda/lib/python3.10/site-packages/sklearn/svm/_base.py:1244: ConvergenceWarning: Liblinear failed to converge, increase the number of iterations.\n",
      "  warnings.warn(\n",
      "/opt/conda/lib/python3.10/site-packages/sklearn/svm/_base.py:1244: ConvergenceWarning: Liblinear failed to converge, increase the number of iterations.\n",
      "  warnings.warn(\n"
     ]
    },
    {
     "data": {
      "text/html": [
       "<style>#sk-container-id-5 {color: black;background-color: white;}#sk-container-id-5 pre{padding: 0;}#sk-container-id-5 div.sk-toggleable {background-color: white;}#sk-container-id-5 label.sk-toggleable__label {cursor: pointer;display: block;width: 100%;margin-bottom: 0;padding: 0.3em;box-sizing: border-box;text-align: center;}#sk-container-id-5 label.sk-toggleable__label-arrow:before {content: \"▸\";float: left;margin-right: 0.25em;color: #696969;}#sk-container-id-5 label.sk-toggleable__label-arrow:hover:before {color: black;}#sk-container-id-5 div.sk-estimator:hover label.sk-toggleable__label-arrow:before {color: black;}#sk-container-id-5 div.sk-toggleable__content {max-height: 0;max-width: 0;overflow: hidden;text-align: left;background-color: #f0f8ff;}#sk-container-id-5 div.sk-toggleable__content pre {margin: 0.2em;color: black;border-radius: 0.25em;background-color: #f0f8ff;}#sk-container-id-5 input.sk-toggleable__control:checked~div.sk-toggleable__content {max-height: 200px;max-width: 100%;overflow: auto;}#sk-container-id-5 input.sk-toggleable__control:checked~label.sk-toggleable__label-arrow:before {content: \"▾\";}#sk-container-id-5 div.sk-estimator input.sk-toggleable__control:checked~label.sk-toggleable__label {background-color: #d4ebff;}#sk-container-id-5 div.sk-label input.sk-toggleable__control:checked~label.sk-toggleable__label {background-color: #d4ebff;}#sk-container-id-5 input.sk-hidden--visually {border: 0;clip: rect(1px 1px 1px 1px);clip: rect(1px, 1px, 1px, 1px);height: 1px;margin: -1px;overflow: hidden;padding: 0;position: absolute;width: 1px;}#sk-container-id-5 div.sk-estimator {font-family: monospace;background-color: #f0f8ff;border: 1px dotted black;border-radius: 0.25em;box-sizing: border-box;margin-bottom: 0.5em;}#sk-container-id-5 div.sk-estimator:hover {background-color: #d4ebff;}#sk-container-id-5 div.sk-parallel-item::after {content: \"\";width: 100%;border-bottom: 1px solid gray;flex-grow: 1;}#sk-container-id-5 div.sk-label:hover label.sk-toggleable__label {background-color: #d4ebff;}#sk-container-id-5 div.sk-serial::before {content: \"\";position: absolute;border-left: 1px solid gray;box-sizing: border-box;top: 0;bottom: 0;left: 50%;z-index: 0;}#sk-container-id-5 div.sk-serial {display: flex;flex-direction: column;align-items: center;background-color: white;padding-right: 0.2em;padding-left: 0.2em;position: relative;}#sk-container-id-5 div.sk-item {position: relative;z-index: 1;}#sk-container-id-5 div.sk-parallel {display: flex;align-items: stretch;justify-content: center;background-color: white;position: relative;}#sk-container-id-5 div.sk-item::before, #sk-container-id-5 div.sk-parallel-item::before {content: \"\";position: absolute;border-left: 1px solid gray;box-sizing: border-box;top: 0;bottom: 0;left: 50%;z-index: -1;}#sk-container-id-5 div.sk-parallel-item {display: flex;flex-direction: column;z-index: 1;position: relative;background-color: white;}#sk-container-id-5 div.sk-parallel-item:first-child::after {align-self: flex-end;width: 50%;}#sk-container-id-5 div.sk-parallel-item:last-child::after {align-self: flex-start;width: 50%;}#sk-container-id-5 div.sk-parallel-item:only-child::after {width: 0;}#sk-container-id-5 div.sk-dashed-wrapped {border: 1px dashed gray;margin: 0 0.4em 0.5em 0.4em;box-sizing: border-box;padding-bottom: 0.4em;background-color: white;}#sk-container-id-5 div.sk-label label {font-family: monospace;font-weight: bold;display: inline-block;line-height: 1.2em;}#sk-container-id-5 div.sk-label-container {text-align: center;}#sk-container-id-5 div.sk-container {/* jupyter's `normalize.less` sets `[hidden] { display: none; }` but bootstrap.min.css set `[hidden] { display: none !important; }` so we also need the `!important` here to be able to override the default hidden behavior on the sphinx rendered scikit-learn.org. See: https://github.com/scikit-learn/scikit-learn/issues/21755 */display: inline-block !important;position: relative;}#sk-container-id-5 div.sk-text-repr-fallback {display: none;}</style><div id=\"sk-container-id-5\" class=\"sk-top-container\"><div class=\"sk-text-repr-fallback\"><pre>StackingClassifier(estimators=[(&#x27;svc&#x27;, LinearSVC(C=0.4, max_iter=10000)),\n",
       "                               (&#x27;xgb&#x27;,\n",
       "                                XGBClassifier(base_score=None, booster=None,\n",
       "                                              callbacks=None,\n",
       "                                              colsample_bylevel=None,\n",
       "                                              colsample_bynode=None,\n",
       "                                              colsample_bytree=None,\n",
       "                                              device=None,\n",
       "                                              early_stopping_rounds=None,\n",
       "                                              enable_categorical=False,\n",
       "                                              eval_metric=None,\n",
       "                                              feature_types=None, gamma=None,\n",
       "                                              grow_policy=None,\n",
       "                                              importance_type=Non...\n",
       "                                              learning_rate=None, max_bin=None,\n",
       "                                              max_cat_threshold=None,\n",
       "                                              max_cat_to_onehot=None,\n",
       "                                              max_delta_step=None, max_depth=50,\n",
       "                                              max_leaves=None,\n",
       "                                              min_child_weight=None,\n",
       "                                              missing=nan,\n",
       "                                              monotone_constraints=None,\n",
       "                                              multi_strategy=None,\n",
       "                                              n_estimators=None, n_jobs=None,\n",
       "                                              num_parallel_tree=None,\n",
       "                                              random_state=None, ...))],\n",
       "                   final_estimator=LogisticRegression(max_iter=1000000,\n",
       "                                                      solver=&#x27;liblinear&#x27;))</pre><b>In a Jupyter environment, please rerun this cell to show the HTML representation or trust the notebook. <br />On GitHub, the HTML representation is unable to render, please try loading this page with nbviewer.org.</b></div><div class=\"sk-container\" hidden><div class=\"sk-item sk-dashed-wrapped\"><div class=\"sk-label-container\"><div class=\"sk-label sk-toggleable\"><input class=\"sk-toggleable__control sk-hidden--visually\" id=\"sk-estimator-id-13\" type=\"checkbox\" ><label for=\"sk-estimator-id-13\" class=\"sk-toggleable__label sk-toggleable__label-arrow\">StackingClassifier</label><div class=\"sk-toggleable__content\"><pre>StackingClassifier(estimators=[(&#x27;svc&#x27;, LinearSVC(C=0.4, max_iter=10000)),\n",
       "                               (&#x27;xgb&#x27;,\n",
       "                                XGBClassifier(base_score=None, booster=None,\n",
       "                                              callbacks=None,\n",
       "                                              colsample_bylevel=None,\n",
       "                                              colsample_bynode=None,\n",
       "                                              colsample_bytree=None,\n",
       "                                              device=None,\n",
       "                                              early_stopping_rounds=None,\n",
       "                                              enable_categorical=False,\n",
       "                                              eval_metric=None,\n",
       "                                              feature_types=None, gamma=None,\n",
       "                                              grow_policy=None,\n",
       "                                              importance_type=Non...\n",
       "                                              learning_rate=None, max_bin=None,\n",
       "                                              max_cat_threshold=None,\n",
       "                                              max_cat_to_onehot=None,\n",
       "                                              max_delta_step=None, max_depth=50,\n",
       "                                              max_leaves=None,\n",
       "                                              min_child_weight=None,\n",
       "                                              missing=nan,\n",
       "                                              monotone_constraints=None,\n",
       "                                              multi_strategy=None,\n",
       "                                              n_estimators=None, n_jobs=None,\n",
       "                                              num_parallel_tree=None,\n",
       "                                              random_state=None, ...))],\n",
       "                   final_estimator=LogisticRegression(max_iter=1000000,\n",
       "                                                      solver=&#x27;liblinear&#x27;))</pre></div></div></div><div class=\"sk-serial\"><div class=\"sk-item\"><div class=\"sk-parallel\"><div class=\"sk-parallel-item\"><div class=\"sk-item\"><div class=\"sk-label-container\"><div class=\"sk-label sk-toggleable\"><label>svc</label></div></div><div class=\"sk-serial\"><div class=\"sk-item\"><div class=\"sk-estimator sk-toggleable\"><input class=\"sk-toggleable__control sk-hidden--visually\" id=\"sk-estimator-id-14\" type=\"checkbox\" ><label for=\"sk-estimator-id-14\" class=\"sk-toggleable__label sk-toggleable__label-arrow\">LinearSVC</label><div class=\"sk-toggleable__content\"><pre>LinearSVC(C=0.4, max_iter=10000)</pre></div></div></div></div></div></div><div class=\"sk-parallel-item\"><div class=\"sk-item\"><div class=\"sk-label-container\"><div class=\"sk-label sk-toggleable\"><label>xgb</label></div></div><div class=\"sk-serial\"><div class=\"sk-item\"><div class=\"sk-estimator sk-toggleable\"><input class=\"sk-toggleable__control sk-hidden--visually\" id=\"sk-estimator-id-15\" type=\"checkbox\" ><label for=\"sk-estimator-id-15\" class=\"sk-toggleable__label sk-toggleable__label-arrow\">XGBClassifier</label><div class=\"sk-toggleable__content\"><pre>XGBClassifier(base_score=None, booster=None, callbacks=None,\n",
       "              colsample_bylevel=None, colsample_bynode=None,\n",
       "              colsample_bytree=None, device=None, early_stopping_rounds=None,\n",
       "              enable_categorical=False, eval_metric=None, feature_types=None,\n",
       "              gamma=None, grow_policy=None, importance_type=None,\n",
       "              interaction_constraints=None, learning_rate=None, max_bin=None,\n",
       "              max_cat_threshold=None, max_cat_to_onehot=None,\n",
       "              max_delta_step=None, max_depth=50, max_leaves=None,\n",
       "              min_child_weight=None, missing=nan, monotone_constraints=None,\n",
       "              multi_strategy=None, n_estimators=None, n_jobs=None,\n",
       "              num_parallel_tree=None, random_state=None, ...)</pre></div></div></div></div></div></div></div></div><div class=\"sk-item\"><div class=\"sk-parallel\"><div class=\"sk-parallel-item\"><div class=\"sk-item\"><div class=\"sk-label-container\"><div class=\"sk-label sk-toggleable\"><label>final_estimator</label></div></div><div class=\"sk-serial\"><div class=\"sk-item\"><div class=\"sk-estimator sk-toggleable\"><input class=\"sk-toggleable__control sk-hidden--visually\" id=\"sk-estimator-id-16\" type=\"checkbox\" ><label for=\"sk-estimator-id-16\" class=\"sk-toggleable__label sk-toggleable__label-arrow\">LogisticRegression</label><div class=\"sk-toggleable__content\"><pre>LogisticRegression(max_iter=1000000, solver=&#x27;liblinear&#x27;)</pre></div></div></div></div></div></div></div></div></div></div></div></div>"
      ],
      "text/plain": [
       "StackingClassifier(estimators=[('svc', LinearSVC(C=0.4, max_iter=10000)),\n",
       "                               ('xgb',\n",
       "                                XGBClassifier(base_score=None, booster=None,\n",
       "                                              callbacks=None,\n",
       "                                              colsample_bylevel=None,\n",
       "                                              colsample_bynode=None,\n",
       "                                              colsample_bytree=None,\n",
       "                                              device=None,\n",
       "                                              early_stopping_rounds=None,\n",
       "                                              enable_categorical=False,\n",
       "                                              eval_metric=None,\n",
       "                                              feature_types=None, gamma=None,\n",
       "                                              grow_policy=None,\n",
       "                                              importance_type=Non...\n",
       "                                              learning_rate=None, max_bin=None,\n",
       "                                              max_cat_threshold=None,\n",
       "                                              max_cat_to_onehot=None,\n",
       "                                              max_delta_step=None, max_depth=50,\n",
       "                                              max_leaves=None,\n",
       "                                              min_child_weight=None,\n",
       "                                              missing=nan,\n",
       "                                              monotone_constraints=None,\n",
       "                                              multi_strategy=None,\n",
       "                                              n_estimators=None, n_jobs=None,\n",
       "                                              num_parallel_tree=None,\n",
       "                                              random_state=None, ...))],\n",
       "                   final_estimator=LogisticRegression(max_iter=1000000,\n",
       "                                                      solver='liblinear'))"
      ]
     },
     "execution_count": 58,
     "metadata": {},
     "output_type": "execute_result"
    }
   ],
   "source": [
    "#as SVC is giving good results than every other , I'm fiting it on whole training data\n",
    "\n",
    "stacking_clf.fit(df1,y)"
   ]
  },
  {
   "cell_type": "code",
   "execution_count": 59,
   "id": "12667f38",
   "metadata": {
    "_cell_guid": "c30d659b-6ae5-4adb-94a0-057391d8d5b3",
    "_uuid": "d802774e-5edd-4176-91fa-43abce9c84dc",
    "collapsed": false,
    "execution": {
     "iopub.execute_input": "2024-04-29T11:58:04.186736Z",
     "iopub.status.busy": "2024-04-29T11:58:04.186043Z",
     "iopub.status.idle": "2024-04-29T11:58:04.538211Z",
     "shell.execute_reply": "2024-04-29T11:58:04.536909Z"
    },
    "jupyter": {
     "outputs_hidden": false
    },
    "papermill": {
     "duration": 0.390767,
     "end_time": "2024-04-29T11:58:04.541909",
     "exception": false,
     "start_time": "2024-04-29T11:58:04.151142",
     "status": "completed"
    },
    "tags": []
   },
   "outputs": [],
   "source": [
    "y_pred=stacking_clf.predict(df2)"
   ]
  },
  {
   "cell_type": "code",
   "execution_count": 60,
   "id": "d01445a4",
   "metadata": {
    "execution": {
     "iopub.execute_input": "2024-04-29T11:58:04.656722Z",
     "iopub.status.busy": "2024-04-29T11:58:04.656351Z",
     "iopub.status.idle": "2024-04-29T11:58:04.662645Z",
     "shell.execute_reply": "2024-04-29T11:58:04.661739Z"
    },
    "papermill": {
     "duration": 0.064543,
     "end_time": "2024-04-29T11:58:04.666402",
     "exception": false,
     "start_time": "2024-04-29T11:58:04.601859",
     "status": "completed"
    },
    "tags": []
   },
   "outputs": [
    {
     "data": {
      "text/plain": [
       "array([5, 5, 0, ..., 5, 1, 5])"
      ]
     },
     "execution_count": 60,
     "metadata": {},
     "output_type": "execute_result"
    }
   ],
   "source": [
    "y_pred"
   ]
  },
  {
   "cell_type": "code",
   "execution_count": 61,
   "id": "fff09202",
   "metadata": {
    "_cell_guid": "1772bec9-a4b2-48cb-866c-a544b8f2a9ac",
    "_uuid": "570cf530-08d7-4114-b406-b852db3ce518",
    "collapsed": false,
    "execution": {
     "iopub.execute_input": "2024-04-29T11:58:04.735161Z",
     "iopub.status.busy": "2024-04-29T11:58:04.734753Z",
     "iopub.status.idle": "2024-04-29T11:58:04.749945Z",
     "shell.execute_reply": "2024-04-29T11:58:04.748886Z"
    },
    "jupyter": {
     "outputs_hidden": false
    },
    "papermill": {
     "duration": 0.052254,
     "end_time": "2024-04-29T11:58:04.752253",
     "exception": false,
     "start_time": "2024-04-29T11:58:04.699999",
     "status": "completed"
    },
    "tags": []
   },
   "outputs": [
    {
     "data": {
      "text/plain": [
       "0       5\n",
       "1       5\n",
       "2       0\n",
       "3       1\n",
       "4       5\n",
       "       ..\n",
       "4541    5\n",
       "4542    5\n",
       "4543    5\n",
       "4544    1\n",
       "4545    5\n",
       "Name: Rating, Length: 4546, dtype: int64"
      ]
     },
     "execution_count": 61,
     "metadata": {},
     "output_type": "execute_result"
    }
   ],
   "source": [
    "submission = pd.DataFrame(columns=['ID', 'Rating'])\n",
    "submission['ID'] = [i + 1 for i in range(len(y_pred))] # index starts from 1\n",
    "submission['Rating'] =y_pred\n",
    "submission['Rating']"
   ]
  },
  {
   "cell_type": "code",
   "execution_count": 62,
   "id": "8aab9caa",
   "metadata": {
    "_cell_guid": "f12ab3b6-7068-46d7-ad7c-27e929bdb35a",
    "_uuid": "ecd8b612-bb67-4736-99ea-2bb1b2b01edc",
    "collapsed": false,
    "execution": {
     "iopub.execute_input": "2024-04-29T11:58:04.822176Z",
     "iopub.status.busy": "2024-04-29T11:58:04.821220Z",
     "iopub.status.idle": "2024-04-29T11:58:04.835901Z",
     "shell.execute_reply": "2024-04-29T11:58:04.834996Z"
    },
    "jupyter": {
     "outputs_hidden": false
    },
    "papermill": {
     "duration": 0.052287,
     "end_time": "2024-04-29T11:58:04.838305",
     "exception": false,
     "start_time": "2024-04-29T11:58:04.786018",
     "status": "completed"
    },
    "tags": []
   },
   "outputs": [],
   "source": [
    "#Save the submission to a CSV file\n",
    "submission.to_csv('submission.csv', index=False)"
   ]
  },
  {
   "cell_type": "code",
   "execution_count": null,
   "id": "21103a21",
   "metadata": {
    "papermill": {
     "duration": 0.033286,
     "end_time": "2024-04-29T11:58:04.905704",
     "exception": false,
     "start_time": "2024-04-29T11:58:04.872418",
     "status": "completed"
    },
    "tags": []
   },
   "outputs": [],
   "source": []
  }
 ],
 "metadata": {
  "kaggle": {
   "accelerator": "none",
   "dataSources": [
    {
     "databundleVersionId": 7452256,
     "sourceId": 67079,
     "sourceType": "competition"
    }
   ],
   "dockerImageVersionId": 30635,
   "isGpuEnabled": false,
   "isInternetEnabled": false,
   "language": "python",
   "sourceType": "notebook"
  },
  "kernelspec": {
   "display_name": "Python 3",
   "language": "python",
   "name": "python3"
  },
  "language_info": {
   "codemirror_mode": {
    "name": "ipython",
    "version": 3
   },
   "file_extension": ".py",
   "mimetype": "text/x-python",
   "name": "python",
   "nbconvert_exporter": "python",
   "pygments_lexer": "ipython3",
   "version": "3.10.12"
  },
  "papermill": {
   "default_parameters": {},
   "duration": 4698.312637,
   "end_time": "2024-04-29T11:58:07.568309",
   "environment_variables": {},
   "exception": null,
   "input_path": "__notebook__.ipynb",
   "output_path": "__notebook__.ipynb",
   "parameters": {},
   "start_time": "2024-04-29T10:39:49.255672",
   "version": "2.4.0"
  }
 },
 "nbformat": 4,
 "nbformat_minor": 5
}
